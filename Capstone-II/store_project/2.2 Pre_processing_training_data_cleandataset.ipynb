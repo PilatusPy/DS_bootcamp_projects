{
 "cells": [
  {
   "cell_type": "code",
   "execution_count": 1,
   "id": "3ab95f5f",
   "metadata": {},
   "outputs": [
    {
     "name": "stdout",
     "output_type": "stream",
     "text": [
      "Requirement already satisfied: scikit-learn in /Users/pilatuspc12/anaconda3/lib/python3.10/site-packages (1.2.1)\n",
      "Requirement already satisfied: threadpoolctl>=2.0.0 in /Users/pilatuspc12/anaconda3/lib/python3.10/site-packages (from scikit-learn) (2.2.0)\n",
      "Requirement already satisfied: joblib>=1.1.1 in /Users/pilatuspc12/anaconda3/lib/python3.10/site-packages (from scikit-learn) (1.1.1)\n",
      "Requirement already satisfied: numpy>=1.17.3 in /Users/pilatuspc12/anaconda3/lib/python3.10/site-packages (from scikit-learn) (1.23.5)\n",
      "Requirement already satisfied: scipy>=1.3.2 in /Users/pilatuspc12/anaconda3/lib/python3.10/site-packages (from scikit-learn) (1.10.0)\n"
     ]
    }
   ],
   "source": [
    "!pip install scikit-learn"
   ]
  },
  {
   "cell_type": "code",
   "execution_count": 2,
   "id": "6dd92634",
   "metadata": {},
   "outputs": [],
   "source": [
    "import pandas as pd\n",
    "from sklearn.preprocessing import StandardScaler\n",
    "from sklearn.model_selection import train_test_split\n",
    "import os\n"
   ]
  },
  {
   "cell_type": "code",
   "execution_count": 6,
   "id": "667bfdb4",
   "metadata": {},
   "outputs": [],
   "source": [
    "# Load the data\n",
    "data = pd.read_csv('data_no_outliers.csv')"
   ]
  },
  {
   "cell_type": "code",
   "execution_count": 7,
   "id": "1bd44c3f",
   "metadata": {},
   "outputs": [
    {
     "data": {
      "text/html": [
       "<div>\n",
       "<style scoped>\n",
       "    .dataframe tbody tr th:only-of-type {\n",
       "        vertical-align: middle;\n",
       "    }\n",
       "\n",
       "    .dataframe tbody tr th {\n",
       "        vertical-align: top;\n",
       "    }\n",
       "\n",
       "    .dataframe thead th {\n",
       "        text-align: right;\n",
       "    }\n",
       "</style>\n",
       "<table border=\"1\" class=\"dataframe\">\n",
       "  <thead>\n",
       "    <tr style=\"text-align: right;\">\n",
       "      <th></th>\n",
       "      <th>Invoice_id</th>\n",
       "      <th>Cust_id</th>\n",
       "      <th>Txn_date</th>\n",
       "      <th>Product_Sub_category</th>\n",
       "      <th>Product_Category</th>\n",
       "      <th>Qty</th>\n",
       "      <th>Rate</th>\n",
       "      <th>Tax</th>\n",
       "      <th>Total_Amt</th>\n",
       "      <th>Store_type</th>\n",
       "    </tr>\n",
       "  </thead>\n",
       "  <tbody>\n",
       "    <tr>\n",
       "      <th>0</th>\n",
       "      <td>25890929042</td>\n",
       "      <td>266783</td>\n",
       "      <td>2016-09-23</td>\n",
       "      <td>Women</td>\n",
       "      <td>Footwear</td>\n",
       "      <td>4</td>\n",
       "      <td>1321</td>\n",
       "      <td>554.820</td>\n",
       "      <td>5838.820</td>\n",
       "      <td>e-Shop</td>\n",
       "    </tr>\n",
       "    <tr>\n",
       "      <th>1</th>\n",
       "      <td>98477711300</td>\n",
       "      <td>266783</td>\n",
       "      <td>2017-10-21</td>\n",
       "      <td>Mens</td>\n",
       "      <td>Clothing</td>\n",
       "      <td>3</td>\n",
       "      <td>93</td>\n",
       "      <td>29.295</td>\n",
       "      <td>308.295</td>\n",
       "      <td>TeleShop</td>\n",
       "    </tr>\n",
       "    <tr>\n",
       "      <th>2</th>\n",
       "      <td>8410316370</td>\n",
       "      <td>266783</td>\n",
       "      <td>2018-02-20</td>\n",
       "      <td>Mens</td>\n",
       "      <td>Clothing</td>\n",
       "      <td>1</td>\n",
       "      <td>869</td>\n",
       "      <td>91.245</td>\n",
       "      <td>960.245</td>\n",
       "      <td>e-Shop</td>\n",
       "    </tr>\n",
       "    <tr>\n",
       "      <th>3</th>\n",
       "      <td>16999552161</td>\n",
       "      <td>266783</td>\n",
       "      <td>2018-09-02</td>\n",
       "      <td>Non-fiction</td>\n",
       "      <td>Books</td>\n",
       "      <td>2</td>\n",
       "      <td>835</td>\n",
       "      <td>175.350</td>\n",
       "      <td>1845.350</td>\n",
       "      <td>e-Shop</td>\n",
       "    </tr>\n",
       "    <tr>\n",
       "      <th>4</th>\n",
       "      <td>36310127403</td>\n",
       "      <td>266784</td>\n",
       "      <td>2017-04-12</td>\n",
       "      <td>Mobiles</td>\n",
       "      <td>Electronics</td>\n",
       "      <td>2</td>\n",
       "      <td>200</td>\n",
       "      <td>42.000</td>\n",
       "      <td>442.000</td>\n",
       "      <td>Brick and Mortar</td>\n",
       "    </tr>\n",
       "  </tbody>\n",
       "</table>\n",
       "</div>"
      ],
      "text/plain": [
       "    Invoice_id  Cust_id    Txn_date Product_Sub_category Product_Category  \\\n",
       "0  25890929042   266783  2016-09-23                Women         Footwear   \n",
       "1  98477711300   266783  2017-10-21                 Mens         Clothing   \n",
       "2   8410316370   266783  2018-02-20                 Mens         Clothing   \n",
       "3  16999552161   266783  2018-09-02          Non-fiction            Books   \n",
       "4  36310127403   266784  2017-04-12              Mobiles      Electronics   \n",
       "\n",
       "   Qty  Rate      Tax  Total_Amt        Store_type  \n",
       "0    4  1321  554.820   5838.820            e-Shop  \n",
       "1    3    93   29.295    308.295          TeleShop  \n",
       "2    1   869   91.245    960.245            e-Shop  \n",
       "3    2   835  175.350   1845.350            e-Shop  \n",
       "4    2   200   42.000    442.000  Brick and Mortar  "
      ]
     },
     "execution_count": 7,
     "metadata": {},
     "output_type": "execute_result"
    }
   ],
   "source": [
    "data.head()"
   ]
  },
  {
   "cell_type": "code",
   "execution_count": 8,
   "id": "6102513d",
   "metadata": {},
   "outputs": [],
   "source": [
    "# Convert 'Txn_date' to datetime\n",
    "data['Txn_date'] = pd.to_datetime(data['Txn_date'])"
   ]
  },
  {
   "cell_type": "code",
   "execution_count": 28,
   "id": "55bab0f8",
   "metadata": {},
   "outputs": [],
   "source": [
    "# Creating dummy features for categorical types\n",
    "data_with_dummies = pd.get_dummies(data, columns=['Product_Category'], drop_first=True)\n"
   ]
  },
  {
   "cell_type": "code",
   "execution_count": 10,
   "id": "5be8090a",
   "metadata": {},
   "outputs": [],
   "source": [
    "# Standardize of numeric features with a scaler\n",
    "numeric_features = data_with_dummies.select_dtypes(include=['int64', 'float64']).columns\n",
    "scaler = StandardScaler()\n",
    "data_with_dummies[numeric_features] = scaler.fit_transform(data_with_dummies[numeric_features])\n"
   ]
  },
  {
   "cell_type": "code",
   "execution_count": 11,
   "id": "5553d167",
   "metadata": {},
   "outputs": [
    {
     "data": {
      "text/html": [
       "<div>\n",
       "<style scoped>\n",
       "    .dataframe tbody tr th:only-of-type {\n",
       "        vertical-align: middle;\n",
       "    }\n",
       "\n",
       "    .dataframe tbody tr th {\n",
       "        vertical-align: top;\n",
       "    }\n",
       "\n",
       "    .dataframe thead th {\n",
       "        text-align: right;\n",
       "    }\n",
       "</style>\n",
       "<table border=\"1\" class=\"dataframe\">\n",
       "  <thead>\n",
       "    <tr style=\"text-align: right;\">\n",
       "      <th></th>\n",
       "      <th>Invoice_id</th>\n",
       "      <th>Cust_id</th>\n",
       "      <th>Txn_date</th>\n",
       "      <th>Product_Sub_category</th>\n",
       "      <th>Qty</th>\n",
       "      <th>Rate</th>\n",
       "      <th>Tax</th>\n",
       "      <th>Total_Amt</th>\n",
       "      <th>Store_type</th>\n",
       "      <th>Product_Category_Books</th>\n",
       "      <th>Product_Category_Clothing</th>\n",
       "      <th>Product_Category_Electronics</th>\n",
       "      <th>Product_Category_Footwear</th>\n",
       "      <th>Product_Category_Home and kitchen</th>\n",
       "    </tr>\n",
       "  </thead>\n",
       "  <tbody>\n",
       "    <tr>\n",
       "      <th>0</th>\n",
       "      <td>-0.834206</td>\n",
       "      <td>-1.743252</td>\n",
       "      <td>2016-09-23</td>\n",
       "      <td>Women</td>\n",
       "      <td>0.714462</td>\n",
       "      <td>1.307519</td>\n",
       "      <td>1.713115</td>\n",
       "      <td>1.713115</td>\n",
       "      <td>e-Shop</td>\n",
       "      <td>0</td>\n",
       "      <td>0</td>\n",
       "      <td>0</td>\n",
       "      <td>1</td>\n",
       "      <td>0</td>\n",
       "    </tr>\n",
       "    <tr>\n",
       "      <th>1</th>\n",
       "      <td>1.670769</td>\n",
       "      <td>-1.743252</td>\n",
       "      <td>2017-10-21</td>\n",
       "      <td>Mens</td>\n",
       "      <td>0.008108</td>\n",
       "      <td>-1.665227</td>\n",
       "      <td>-1.181460</td>\n",
       "      <td>-1.181460</td>\n",
       "      <td>TeleShop</td>\n",
       "      <td>0</td>\n",
       "      <td>1</td>\n",
       "      <td>0</td>\n",
       "      <td>0</td>\n",
       "      <td>0</td>\n",
       "    </tr>\n",
       "    <tr>\n",
       "      <th>2</th>\n",
       "      <td>-1.437464</td>\n",
       "      <td>-1.743252</td>\n",
       "      <td>2018-02-20</td>\n",
       "      <td>Mens</td>\n",
       "      <td>-1.404599</td>\n",
       "      <td>0.213316</td>\n",
       "      <td>-0.840241</td>\n",
       "      <td>-0.840241</td>\n",
       "      <td>e-Shop</td>\n",
       "      <td>0</td>\n",
       "      <td>1</td>\n",
       "      <td>0</td>\n",
       "      <td>0</td>\n",
       "      <td>0</td>\n",
       "    </tr>\n",
       "    <tr>\n",
       "      <th>3</th>\n",
       "      <td>-1.141048</td>\n",
       "      <td>-1.743252</td>\n",
       "      <td>2018-09-02</td>\n",
       "      <td>Non-fiction</td>\n",
       "      <td>-0.698246</td>\n",
       "      <td>0.131009</td>\n",
       "      <td>-0.376994</td>\n",
       "      <td>-0.376994</td>\n",
       "      <td>e-Shop</td>\n",
       "      <td>1</td>\n",
       "      <td>0</td>\n",
       "      <td>0</td>\n",
       "      <td>0</td>\n",
       "      <td>0</td>\n",
       "    </tr>\n",
       "    <tr>\n",
       "      <th>4</th>\n",
       "      <td>-0.474639</td>\n",
       "      <td>-1.742841</td>\n",
       "      <td>2017-04-12</td>\n",
       "      <td>Mobiles</td>\n",
       "      <td>-0.698246</td>\n",
       "      <td>-1.406201</td>\n",
       "      <td>-1.111481</td>\n",
       "      <td>-1.111481</td>\n",
       "      <td>Brick and Mortar</td>\n",
       "      <td>0</td>\n",
       "      <td>0</td>\n",
       "      <td>1</td>\n",
       "      <td>0</td>\n",
       "      <td>0</td>\n",
       "    </tr>\n",
       "  </tbody>\n",
       "</table>\n",
       "</div>"
      ],
      "text/plain": [
       "   Invoice_id   Cust_id   Txn_date Product_Sub_category       Qty      Rate  \\\n",
       "0   -0.834206 -1.743252 2016-09-23                Women  0.714462  1.307519   \n",
       "1    1.670769 -1.743252 2017-10-21                 Mens  0.008108 -1.665227   \n",
       "2   -1.437464 -1.743252 2018-02-20                 Mens -1.404599  0.213316   \n",
       "3   -1.141048 -1.743252 2018-09-02          Non-fiction -0.698246  0.131009   \n",
       "4   -0.474639 -1.742841 2017-04-12              Mobiles -0.698246 -1.406201   \n",
       "\n",
       "        Tax  Total_Amt        Store_type  Product_Category_Books  \\\n",
       "0  1.713115   1.713115            e-Shop                       0   \n",
       "1 -1.181460  -1.181460          TeleShop                       0   \n",
       "2 -0.840241  -0.840241            e-Shop                       0   \n",
       "3 -0.376994  -0.376994            e-Shop                       1   \n",
       "4 -1.111481  -1.111481  Brick and Mortar                       0   \n",
       "\n",
       "   Product_Category_Clothing  Product_Category_Electronics  \\\n",
       "0                          0                             0   \n",
       "1                          1                             0   \n",
       "2                          1                             0   \n",
       "3                          0                             0   \n",
       "4                          0                             1   \n",
       "\n",
       "   Product_Category_Footwear  Product_Category_Home and kitchen  \n",
       "0                          1                                  0  \n",
       "1                          0                                  0  \n",
       "2                          0                                  0  \n",
       "3                          0                                  0  \n",
       "4                          0                                  0  "
      ]
     },
     "execution_count": 11,
     "metadata": {},
     "output_type": "execute_result"
    }
   ],
   "source": [
    "data_with_dummies.head()"
   ]
  },
  {
   "cell_type": "code",
   "execution_count": 12,
   "id": "88c91c38",
   "metadata": {},
   "outputs": [],
   "source": [
    "# Spliting the data into training and testing subsets\n",
    "# Training: 2016-2017, Testing: 2018\n",
    "train_data = data_with_dummies[data_with_dummies['Txn_date'].dt.year < 2018]\n",
    "test_data = data_with_dummies[data_with_dummies['Txn_date'].dt.year == 2018]"
   ]
  },
  {
   "cell_type": "code",
   "execution_count": 13,
   "id": "f6cb9071",
   "metadata": {},
   "outputs": [],
   "source": [
    "# Preparing data for forecasting with Facebook Prophet (separate models for each category)\n",
    "# Keeping only necessary columns for forecasting ('Txn_date' and 'Total_Amt')\n",
    "data_forecast = data[['Txn_date', 'Total_Amt', 'Product_Category']]"
   ]
  },
  {
   "cell_type": "code",
   "execution_count": 16,
   "id": "9c182de5",
   "metadata": {},
   "outputs": [],
   "source": [
    "# Splitting the data for each category\n",
    "unique_product_categories = data_forecast['Product_Category'].unique()\n",
    "prophet_ready_datasets = {}\n",
    "\n",
    "for category in unique_product_categories:\n",
    "    # Filtering and format training data\n",
    "    train_data_forecast = data_forecast[data_forecast['Txn_date'].dt.year < 2018]\n",
    "    train_data_forecast = train_data_forecast[train_data_forecast['Product_Category'] == category][['Txn_date', 'Total_Amt']].rename(columns={'Txn_date': 'ds', 'Total_Amt': 'y'})\n",
    "    \n",
    "    # Filtering and format testing data\n",
    "    test_data_forecast = data_forecast[data_forecast['Txn_date'].dt.year == 2018]\n",
    "    test_data_forecast = test_data_forecast[test_data_forecast['Product_Category'] == category][['Txn_date', 'Total_Amt']].rename(columns={'Txn_date': 'ds', 'Total_Amt': 'y'})\n",
    "    \n",
    "    # Storing formatted data\n",
    "    prophet_ready_datasets[category] = {'train': train_data_forecast, 'test': test_data_forecast}\n"
   ]
  },
  {
   "cell_type": "code",
   "execution_count": 17,
   "id": "4d28c794",
   "metadata": {},
   "outputs": [
    {
     "data": {
      "text/plain": [
       "(           ds         y\n",
       " 0  2016-09-23  5838.820\n",
       " 7  2016-03-15  6911.775\n",
       " 8  2016-10-24  3135.990\n",
       " 10 2017-01-07  3540.420\n",
       " 14 2016-09-13  1927.120,\n",
       "             ds         y\n",
       " 13  2018-02-13  2276.300\n",
       " 17  2018-12-02  1312.740\n",
       " 46  2018-02-23  1201.135\n",
       " 67  2018-09-08    81.770\n",
       " 182 2018-05-19  5502.900)"
      ]
     },
     "execution_count": 17,
     "metadata": {},
     "output_type": "execute_result"
    }
   ],
   "source": [
    "# First few entries of the formatted train and test sets for the first category\n",
    "prophet_ready_datasets[unique_product_categories[0]]['train'].head(), prophet_ready_datasets[unique_product_categories[0]]['test'].head()\n"
   ]
  },
  {
   "cell_type": "code",
   "execution_count": 25,
   "id": "d15973bf",
   "metadata": {},
   "outputs": [],
   "source": [
    "# Directory path\n",
    "directory_path = '~/Documents/GitHub/Capstone-II/store_project/pre_processing_data'\n",
    "\n",
    "full_directory_path = os.path.expanduser(directory_path)"
   ]
  },
  {
   "cell_type": "code",
   "execution_count": 27,
   "id": "a5fce660",
   "metadata": {},
   "outputs": [
    {
     "name": "stdout",
     "output_type": "stream",
     "text": [
      "Files saved at: /Users/alexib/Documents/GitHub/Capstone-II/store_project/pre_processing_data\n"
     ]
    }
   ],
   "source": [
    "# File paths for saving\n",
    "preprocessed_data_path = os.path.join(full_directory_path, 'preprocessed_data.csv')\n",
    "train_data_path = os.path.join(full_directory_path, 'train_data.csv')\n",
    "test_data_path = os.path.join(full_directory_path, 'test_data.csv')\n",
    "\n",
    "# Saving DataFrames\n",
    "data.to_csv(preprocessed_data_path, index=False)\n",
    "train_data.to_csv(train_data_path, index=False)\n",
    "test_data.to_csv(test_data_path, index=False)\n",
    "\n",
    "print(\"Files saved at:\", full_directory_path)"
   ]
  },
  {
   "cell_type": "code",
   "execution_count": null,
   "id": "e7333aad",
   "metadata": {},
   "outputs": [],
   "source": []
  }
 ],
 "metadata": {
  "kernelspec": {
   "display_name": "Python 3 (ipykernel)",
   "language": "python",
   "name": "python3"
  },
  "language_info": {
   "codemirror_mode": {
    "name": "ipython",
    "version": 3
   },
   "file_extension": ".py",
   "mimetype": "text/x-python",
   "name": "python",
   "nbconvert_exporter": "python",
   "pygments_lexer": "ipython3",
   "version": "3.10.9"
  }
 },
 "nbformat": 4,
 "nbformat_minor": 5
}
