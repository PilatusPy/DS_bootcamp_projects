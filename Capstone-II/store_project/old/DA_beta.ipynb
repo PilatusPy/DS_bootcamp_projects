{
 "cells": [
  {
   "cell_type": "code",
   "execution_count": 1,
   "id": "acb2202f",
   "metadata": {},
   "outputs": [],
   "source": [
    "import pandas as pd "
   ]
  },
  {
   "cell_type": "code",
   "execution_count": 2,
   "id": "bdb55a03",
   "metadata": {},
   "outputs": [],
   "source": [
    "df = pd.read_csv('clean_data.csv')\n",
    "df_returns = pd.read_csv('clean_data_returns.csv')"
   ]
  },
  {
   "cell_type": "code",
   "execution_count": 3,
   "id": "ef37c0cb",
   "metadata": {},
   "outputs": [
    {
     "data": {
      "text/html": [
       "<div>\n",
       "<style scoped>\n",
       "    .dataframe tbody tr th:only-of-type {\n",
       "        vertical-align: middle;\n",
       "    }\n",
       "\n",
       "    .dataframe tbody tr th {\n",
       "        vertical-align: top;\n",
       "    }\n",
       "\n",
       "    .dataframe thead th {\n",
       "        text-align: right;\n",
       "    }\n",
       "</style>\n",
       "<table border=\"1\" class=\"dataframe\">\n",
       "  <thead>\n",
       "    <tr style=\"text-align: right;\">\n",
       "      <th></th>\n",
       "      <th>Invoice_id</th>\n",
       "      <th>Cust_id</th>\n",
       "      <th>Txn_date</th>\n",
       "      <th>Product_Sub_category</th>\n",
       "      <th>Product_Category</th>\n",
       "      <th>Qty</th>\n",
       "      <th>Rate</th>\n",
       "      <th>Tax</th>\n",
       "      <th>Total_Amt</th>\n",
       "      <th>Store_type</th>\n",
       "    </tr>\n",
       "  </thead>\n",
       "  <tbody>\n",
       "    <tr>\n",
       "      <th>0</th>\n",
       "      <td>25890929042</td>\n",
       "      <td>266783</td>\n",
       "      <td>2016-09-23</td>\n",
       "      <td>Women</td>\n",
       "      <td>Footwear</td>\n",
       "      <td>4</td>\n",
       "      <td>1321</td>\n",
       "      <td>554.820</td>\n",
       "      <td>5838.820</td>\n",
       "      <td>e-Shop</td>\n",
       "    </tr>\n",
       "    <tr>\n",
       "      <th>1</th>\n",
       "      <td>98477711300</td>\n",
       "      <td>266783</td>\n",
       "      <td>2017-10-21</td>\n",
       "      <td>Mens</td>\n",
       "      <td>Clothing</td>\n",
       "      <td>3</td>\n",
       "      <td>93</td>\n",
       "      <td>29.295</td>\n",
       "      <td>308.295</td>\n",
       "      <td>TeleShop</td>\n",
       "    </tr>\n",
       "    <tr>\n",
       "      <th>2</th>\n",
       "      <td>8410316370</td>\n",
       "      <td>266783</td>\n",
       "      <td>2018-02-20</td>\n",
       "      <td>Mens</td>\n",
       "      <td>Clothing</td>\n",
       "      <td>1</td>\n",
       "      <td>869</td>\n",
       "      <td>91.245</td>\n",
       "      <td>960.245</td>\n",
       "      <td>e-Shop</td>\n",
       "    </tr>\n",
       "    <tr>\n",
       "      <th>3</th>\n",
       "      <td>16999552161</td>\n",
       "      <td>266783</td>\n",
       "      <td>2018-09-02</td>\n",
       "      <td>Non-fiction</td>\n",
       "      <td>Books</td>\n",
       "      <td>2</td>\n",
       "      <td>835</td>\n",
       "      <td>175.350</td>\n",
       "      <td>1845.350</td>\n",
       "      <td>e-Shop</td>\n",
       "    </tr>\n",
       "    <tr>\n",
       "      <th>4</th>\n",
       "      <td>36310127403</td>\n",
       "      <td>266784</td>\n",
       "      <td>2017-04-12</td>\n",
       "      <td>Mobiles</td>\n",
       "      <td>Electronics</td>\n",
       "      <td>2</td>\n",
       "      <td>200</td>\n",
       "      <td>42.000</td>\n",
       "      <td>442.000</td>\n",
       "      <td>Brick and Mortar</td>\n",
       "    </tr>\n",
       "    <tr>\n",
       "      <th>...</th>\n",
       "      <td>...</td>\n",
       "      <td>...</td>\n",
       "      <td>...</td>\n",
       "      <td>...</td>\n",
       "      <td>...</td>\n",
       "      <td>...</td>\n",
       "      <td>...</td>\n",
       "      <td>...</td>\n",
       "      <td>...</td>\n",
       "      <td>...</td>\n",
       "    </tr>\n",
       "    <tr>\n",
       "      <th>19916</th>\n",
       "      <td>94712826085</td>\n",
       "      <td>275264</td>\n",
       "      <td>2016-05-08</td>\n",
       "      <td>Non-fiction</td>\n",
       "      <td>Books</td>\n",
       "      <td>5</td>\n",
       "      <td>221</td>\n",
       "      <td>116.025</td>\n",
       "      <td>1221.025</td>\n",
       "      <td>TeleShop</td>\n",
       "    </tr>\n",
       "    <tr>\n",
       "      <th>19917</th>\n",
       "      <td>81382444243</td>\n",
       "      <td>275264</td>\n",
       "      <td>2016-08-10</td>\n",
       "      <td>Electric appliances</td>\n",
       "      <td>Home and kitchen</td>\n",
       "      <td>4</td>\n",
       "      <td>587</td>\n",
       "      <td>246.540</td>\n",
       "      <td>2594.540</td>\n",
       "      <td>e-Shop</td>\n",
       "    </tr>\n",
       "    <tr>\n",
       "      <th>19918</th>\n",
       "      <td>7214136016</td>\n",
       "      <td>275265</td>\n",
       "      <td>2016-12-17</td>\n",
       "      <td>Women</td>\n",
       "      <td>Bags</td>\n",
       "      <td>1</td>\n",
       "      <td>222</td>\n",
       "      <td>23.310</td>\n",
       "      <td>245.310</td>\n",
       "      <td>TeleShop</td>\n",
       "    </tr>\n",
       "    <tr>\n",
       "      <th>19919</th>\n",
       "      <td>38961184788</td>\n",
       "      <td>275265</td>\n",
       "      <td>2016-12-26</td>\n",
       "      <td>Academic</td>\n",
       "      <td>Books</td>\n",
       "      <td>3</td>\n",
       "      <td>188</td>\n",
       "      <td>59.220</td>\n",
       "      <td>623.220</td>\n",
       "      <td>e-Shop</td>\n",
       "    </tr>\n",
       "    <tr>\n",
       "      <th>19920</th>\n",
       "      <td>24113900219</td>\n",
       "      <td>275265</td>\n",
       "      <td>2018-03-04</td>\n",
       "      <td>Furnishing</td>\n",
       "      <td>Home and kitchen</td>\n",
       "      <td>3</td>\n",
       "      <td>719</td>\n",
       "      <td>226.485</td>\n",
       "      <td>2383.485</td>\n",
       "      <td>Brick and Mortar</td>\n",
       "    </tr>\n",
       "  </tbody>\n",
       "</table>\n",
       "<p>19921 rows × 10 columns</p>\n",
       "</div>"
      ],
      "text/plain": [
       "        Invoice_id  Cust_id    Txn_date Product_Sub_category  \\\n",
       "0      25890929042   266783  2016-09-23                Women   \n",
       "1      98477711300   266783  2017-10-21                 Mens   \n",
       "2       8410316370   266783  2018-02-20                 Mens   \n",
       "3      16999552161   266783  2018-09-02          Non-fiction   \n",
       "4      36310127403   266784  2017-04-12              Mobiles   \n",
       "...            ...      ...         ...                  ...   \n",
       "19916  94712826085   275264  2016-05-08          Non-fiction   \n",
       "19917  81382444243   275264  2016-08-10  Electric appliances   \n",
       "19918   7214136016   275265  2016-12-17                Women   \n",
       "19919  38961184788   275265  2016-12-26             Academic   \n",
       "19920  24113900219   275265  2018-03-04           Furnishing   \n",
       "\n",
       "       Product_Category  Qty  Rate      Tax  Total_Amt        Store_type  \n",
       "0              Footwear    4  1321  554.820   5838.820            e-Shop  \n",
       "1              Clothing    3    93   29.295    308.295          TeleShop  \n",
       "2              Clothing    1   869   91.245    960.245            e-Shop  \n",
       "3                 Books    2   835  175.350   1845.350            e-Shop  \n",
       "4           Electronics    2   200   42.000    442.000  Brick and Mortar  \n",
       "...                 ...  ...   ...      ...        ...               ...  \n",
       "19916             Books    5   221  116.025   1221.025          TeleShop  \n",
       "19917  Home and kitchen    4   587  246.540   2594.540            e-Shop  \n",
       "19918              Bags    1   222   23.310    245.310          TeleShop  \n",
       "19919             Books    3   188   59.220    623.220            e-Shop  \n",
       "19920  Home and kitchen    3   719  226.485   2383.485  Brick and Mortar  \n",
       "\n",
       "[19921 rows x 10 columns]"
      ]
     },
     "execution_count": 3,
     "metadata": {},
     "output_type": "execute_result"
    }
   ],
   "source": [
    "df"
   ]
  },
  {
   "cell_type": "code",
   "execution_count": 4,
   "id": "682a1d83",
   "metadata": {},
   "outputs": [
    {
     "data": {
      "text/html": [
       "<div>\n",
       "<style scoped>\n",
       "    .dataframe tbody tr th:only-of-type {\n",
       "        vertical-align: middle;\n",
       "    }\n",
       "\n",
       "    .dataframe tbody tr th {\n",
       "        vertical-align: top;\n",
       "    }\n",
       "\n",
       "    .dataframe thead th {\n",
       "        text-align: right;\n",
       "    }\n",
       "</style>\n",
       "<table border=\"1\" class=\"dataframe\">\n",
       "  <thead>\n",
       "    <tr style=\"text-align: right;\">\n",
       "      <th></th>\n",
       "      <th>Invoice_id</th>\n",
       "      <th>Cust_id</th>\n",
       "      <th>Txn_date</th>\n",
       "      <th>Product_Sub_category</th>\n",
       "      <th>Product_Category</th>\n",
       "      <th>Qty</th>\n",
       "      <th>Rate</th>\n",
       "      <th>Tax</th>\n",
       "      <th>Total_Amt</th>\n",
       "      <th>Store_type</th>\n",
       "    </tr>\n",
       "  </thead>\n",
       "  <tbody>\n",
       "    <tr>\n",
       "      <th>0</th>\n",
       "      <td>25890929042</td>\n",
       "      <td>266783</td>\n",
       "      <td>2016-09-24</td>\n",
       "      <td>Women</td>\n",
       "      <td>Footwear</td>\n",
       "      <td>-4</td>\n",
       "      <td>-1321</td>\n",
       "      <td>554.820</td>\n",
       "      <td>-5838.820</td>\n",
       "      <td>e-Shop</td>\n",
       "    </tr>\n",
       "    <tr>\n",
       "      <th>1</th>\n",
       "      <td>96176911576</td>\n",
       "      <td>266785</td>\n",
       "      <td>2017-02-06</td>\n",
       "      <td>Home Decoratives</td>\n",
       "      <td>Home and kitchen</td>\n",
       "      <td>-5</td>\n",
       "      <td>-1236</td>\n",
       "      <td>648.900</td>\n",
       "      <td>-6828.900</td>\n",
       "      <td>Brick and Mortar</td>\n",
       "    </tr>\n",
       "    <tr>\n",
       "      <th>2</th>\n",
       "      <td>42435707527</td>\n",
       "      <td>266794</td>\n",
       "      <td>2018-06-30</td>\n",
       "      <td>Audio and video</td>\n",
       "      <td>Electronics</td>\n",
       "      <td>-1</td>\n",
       "      <td>-123</td>\n",
       "      <td>12.915</td>\n",
       "      <td>-135.915</td>\n",
       "      <td>e-Shop</td>\n",
       "    </tr>\n",
       "    <tr>\n",
       "      <th>3</th>\n",
       "      <td>88316484015</td>\n",
       "      <td>266816</td>\n",
       "      <td>2018-12-08</td>\n",
       "      <td>Women</td>\n",
       "      <td>Footwear</td>\n",
       "      <td>-1</td>\n",
       "      <td>-74</td>\n",
       "      <td>7.770</td>\n",
       "      <td>-81.770</td>\n",
       "      <td>e-Shop</td>\n",
       "    </tr>\n",
       "    <tr>\n",
       "      <th>4</th>\n",
       "      <td>98097112949</td>\n",
       "      <td>266818</td>\n",
       "      <td>2017-04-19</td>\n",
       "      <td>Home Decoratives</td>\n",
       "      <td>Home and kitchen</td>\n",
       "      <td>-1</td>\n",
       "      <td>-1499</td>\n",
       "      <td>157.395</td>\n",
       "      <td>-1656.395</td>\n",
       "      <td>e-Shop</td>\n",
       "    </tr>\n",
       "    <tr>\n",
       "      <th>...</th>\n",
       "      <td>...</td>\n",
       "      <td>...</td>\n",
       "      <td>...</td>\n",
       "      <td>...</td>\n",
       "      <td>...</td>\n",
       "      <td>...</td>\n",
       "      <td>...</td>\n",
       "      <td>...</td>\n",
       "      <td>...</td>\n",
       "      <td>...</td>\n",
       "    </tr>\n",
       "    <tr>\n",
       "      <th>2049</th>\n",
       "      <td>56929756999</td>\n",
       "      <td>275252</td>\n",
       "      <td>2016-10-14</td>\n",
       "      <td>Women</td>\n",
       "      <td>Clothing</td>\n",
       "      <td>-4</td>\n",
       "      <td>-1307</td>\n",
       "      <td>548.940</td>\n",
       "      <td>-5776.940</td>\n",
       "      <td>e-Shop</td>\n",
       "    </tr>\n",
       "    <tr>\n",
       "      <th>2050</th>\n",
       "      <td>84628682819</td>\n",
       "      <td>275252</td>\n",
       "      <td>2018-09-08</td>\n",
       "      <td>Mens</td>\n",
       "      <td>Footwear</td>\n",
       "      <td>-2</td>\n",
       "      <td>-1281</td>\n",
       "      <td>269.010</td>\n",
       "      <td>-2831.010</td>\n",
       "      <td>TeleShop</td>\n",
       "    </tr>\n",
       "    <tr>\n",
       "      <th>2051</th>\n",
       "      <td>96061314451</td>\n",
       "      <td>275257</td>\n",
       "      <td>2018-03-09</td>\n",
       "      <td>Furnishing</td>\n",
       "      <td>Home and kitchen</td>\n",
       "      <td>-3</td>\n",
       "      <td>-347</td>\n",
       "      <td>109.305</td>\n",
       "      <td>-1150.305</td>\n",
       "      <td>e-Shop</td>\n",
       "    </tr>\n",
       "    <tr>\n",
       "      <th>2052</th>\n",
       "      <td>62560589211</td>\n",
       "      <td>275261</td>\n",
       "      <td>2016-05-10</td>\n",
       "      <td>Mens</td>\n",
       "      <td>Bags</td>\n",
       "      <td>-1</td>\n",
       "      <td>-367</td>\n",
       "      <td>38.535</td>\n",
       "      <td>-405.535</td>\n",
       "      <td>TeleShop</td>\n",
       "    </tr>\n",
       "    <tr>\n",
       "      <th>2053</th>\n",
       "      <td>45067329959</td>\n",
       "      <td>275261</td>\n",
       "      <td>2018-05-07</td>\n",
       "      <td>Kids</td>\n",
       "      <td>Books</td>\n",
       "      <td>-3</td>\n",
       "      <td>-862</td>\n",
       "      <td>271.530</td>\n",
       "      <td>-2857.530</td>\n",
       "      <td>e-Shop</td>\n",
       "    </tr>\n",
       "  </tbody>\n",
       "</table>\n",
       "<p>2054 rows × 10 columns</p>\n",
       "</div>"
      ],
      "text/plain": [
       "       Invoice_id  Cust_id    Txn_date Product_Sub_category  Product_Category  \\\n",
       "0     25890929042   266783  2016-09-24                Women          Footwear   \n",
       "1     96176911576   266785  2017-02-06     Home Decoratives  Home and kitchen   \n",
       "2     42435707527   266794  2018-06-30      Audio and video       Electronics   \n",
       "3     88316484015   266816  2018-12-08                Women          Footwear   \n",
       "4     98097112949   266818  2017-04-19     Home Decoratives  Home and kitchen   \n",
       "...           ...      ...         ...                  ...               ...   \n",
       "2049  56929756999   275252  2016-10-14                Women          Clothing   \n",
       "2050  84628682819   275252  2018-09-08                 Mens          Footwear   \n",
       "2051  96061314451   275257  2018-03-09           Furnishing  Home and kitchen   \n",
       "2052  62560589211   275261  2016-05-10                 Mens              Bags   \n",
       "2053  45067329959   275261  2018-05-07                 Kids             Books   \n",
       "\n",
       "      Qty  Rate      Tax  Total_Amt        Store_type  \n",
       "0      -4 -1321  554.820  -5838.820            e-Shop  \n",
       "1      -5 -1236  648.900  -6828.900  Brick and Mortar  \n",
       "2      -1  -123   12.915   -135.915            e-Shop  \n",
       "3      -1   -74    7.770    -81.770            e-Shop  \n",
       "4      -1 -1499  157.395  -1656.395            e-Shop  \n",
       "...   ...   ...      ...        ...               ...  \n",
       "2049   -4 -1307  548.940  -5776.940            e-Shop  \n",
       "2050   -2 -1281  269.010  -2831.010          TeleShop  \n",
       "2051   -3  -347  109.305  -1150.305            e-Shop  \n",
       "2052   -1  -367   38.535   -405.535          TeleShop  \n",
       "2053   -3  -862  271.530  -2857.530            e-Shop  \n",
       "\n",
       "[2054 rows x 10 columns]"
      ]
     },
     "execution_count": 4,
     "metadata": {},
     "output_type": "execute_result"
    }
   ],
   "source": [
    "df_returns"
   ]
  },
  {
   "cell_type": "code",
   "execution_count": 5,
   "id": "70356082",
   "metadata": {},
   "outputs": [
    {
     "data": {
      "text/plain": [
       "5473"
      ]
     },
     "execution_count": 5,
     "metadata": {},
     "output_type": "execute_result"
    }
   ],
   "source": [
    "#a little bit of data analysis (talked about it last call)\n",
    "#identifying type of store we have (local or in the midle of \"time squre\")\n",
    "\n",
    "unique_customer_number = df['Cust_id'].nunique()\n",
    "unique_customer_number"
   ]
  },
  {
   "cell_type": "code",
   "execution_count": 6,
   "id": "253b6485",
   "metadata": {},
   "outputs": [
    {
     "data": {
      "text/plain": [
       "273014    11\n",
       "274227    11\n",
       "270803    11\n",
       "272741    11\n",
       "270535    10\n",
       "          ..\n",
       "269281     1\n",
       "274373     1\n",
       "268291     1\n",
       "270785     1\n",
       "268370     1\n",
       "Name: Cust_id, Length: 5473, dtype: int64"
      ]
     },
     "execution_count": 6,
     "metadata": {},
     "output_type": "execute_result"
    }
   ],
   "source": [
    "customer_freq = df['Cust_id'].value_counts()\n",
    "customer_freq"
   ]
  },
  {
   "cell_type": "code",
   "execution_count": null,
   "id": "3dc3e87a",
   "metadata": {},
   "outputs": [],
   "source": []
  },
  {
   "cell_type": "code",
   "execution_count": 7,
   "id": "c20e3ae2",
   "metadata": {},
   "outputs": [
    {
     "data": {
      "text/plain": [
       "Timedelta('1094 days 00:00:00')"
      ]
     },
     "execution_count": 7,
     "metadata": {},
     "output_type": "execute_result"
    }
   ],
   "source": [
    "#how old is this store\n",
    "df['Txn_date'] = pd.to_datetime(df['Txn_date'])\n",
    "age = df['Txn_date'].max() - df['Txn_date'].min()\n",
    "age"
   ]
  },
  {
   "cell_type": "code",
   "execution_count": 8,
   "id": "46841b0a",
   "metadata": {},
   "outputs": [
    {
     "data": {
      "text/plain": [
       "Brick and Mortar    840\n",
       "e-Shop              822\n",
       "TeleShop            392\n",
       "Name: Store_type, dtype: int64"
      ]
     },
     "execution_count": 8,
     "metadata": {},
     "output_type": "execute_result"
    }
   ],
   "source": [
    "#work with returns\n",
    "returns_by_store = df_returns['Store_type'].value_counts()\n",
    "returns_by_store"
   ]
  },
  {
   "cell_type": "code",
   "execution_count": 14,
   "id": "191d6e19",
   "metadata": {},
   "outputs": [
    {
     "data": {
      "text/plain": [
       "268490    4\n",
       "270353    4\n",
       "268207    4\n",
       "271862    4\n",
       "270308    4\n",
       "         ..\n",
       "270897    2\n",
       "270895    2\n",
       "268579    2\n",
       "270892    2\n",
       "270870    2\n",
       "Name: Cust_id, Length: 100, dtype: int64"
      ]
     },
     "execution_count": 14,
     "metadata": {},
     "output_type": "execute_result"
    }
   ],
   "source": [
    "#stores 100 \"favorite\" customers\n",
    "returns_by_customer = df_returns['Cust_id'].value_counts()\n",
    "top_100_customers = returns_by_customer.nlargest(100)\n",
    "top_100_customers.head(100)\n"
   ]
  },
  {
   "cell_type": "code",
   "execution_count": 15,
   "id": "ca1e9723",
   "metadata": {},
   "outputs": [
    {
     "data": {
      "text/plain": [
       "266783    0.250000\n",
       "266784         NaN\n",
       "266785    0.142857\n",
       "266788         NaN\n",
       "266794    0.100000\n",
       "            ...   \n",
       "275257    0.250000\n",
       "275261    0.666667\n",
       "275262         NaN\n",
       "275264         NaN\n",
       "275265         NaN\n",
       "Name: Cust_id, Length: 5473, dtype: float64"
      ]
     },
     "execution_count": 15,
     "metadata": {},
     "output_type": "execute_result"
    }
   ],
   "source": [
    "#return rate\n",
    "returns_by_customer = df_returns['Cust_id'].value_counts()\n",
    "transactions = df['Cust_id'].value_counts()\n",
    "\n",
    "return_rate = returns_by_customer/transactions\n",
    "return_rate"
   ]
  },
  {
   "cell_type": "code",
   "execution_count": 16,
   "id": "52132c35",
   "metadata": {},
   "outputs": [
    {
     "data": {
      "text/plain": [
       "0.3429058310851789"
      ]
     },
     "execution_count": 16,
     "metadata": {},
     "output_type": "execute_result"
    }
   ],
   "source": [
    "avg_return_all_customers = return_rate.mean()\n",
    "avg_return_all_customers"
   ]
  },
  {
   "cell_type": "code",
   "execution_count": 17,
   "id": "336b5db0",
   "metadata": {},
   "outputs": [
    {
     "data": {
      "text/plain": [
       "2.59"
      ]
     },
     "execution_count": 17,
     "metadata": {},
     "output_type": "execute_result"
    }
   ],
   "source": [
    "avg_return_top_100_customers = top_100_customers.mean()\n",
    "avg_return_top_100_customers "
   ]
  },
  {
   "cell_type": "code",
   "execution_count": null,
   "id": "62c813d1",
   "metadata": {},
   "outputs": [],
   "source": []
  },
  {
   "cell_type": "code",
   "execution_count": null,
   "id": "aeb7dc02",
   "metadata": {},
   "outputs": [],
   "source": []
  }
 ],
 "metadata": {
  "kernelspec": {
   "display_name": "Python 3 (ipykernel)",
   "language": "python",
   "name": "python3"
  },
  "language_info": {
   "codemirror_mode": {
    "name": "ipython",
    "version": 3
   },
   "file_extension": ".py",
   "mimetype": "text/x-python",
   "name": "python",
   "nbconvert_exporter": "python",
   "pygments_lexer": "ipython3",
   "version": "3.10.9"
  }
 },
 "nbformat": 4,
 "nbformat_minor": 5
}
