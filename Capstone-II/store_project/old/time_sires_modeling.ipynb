{
 "cells": [
  {
   "cell_type": "code",
   "execution_count": 1,
   "id": "509d8996",
   "metadata": {},
   "outputs": [],
   "source": [
    "#time_sires_modeling with sklearn and tensorflow\n"
   ]
  },
  {
   "cell_type": "code",
   "execution_count": 2,
   "id": "424641c7",
   "metadata": {},
   "outputs": [],
   "source": [
    "#import needed libs\n",
    "import pandas as pd\n",
    "\n",
    "import matplotlib.pyplot as plt\n",
    "import seaborn as sns\n",
    "\n",
    "from sklearn.preprocessing import MinMaxScaler\n",
    "color_pal = sns.color_palette()\n",
    "plt.style.use('fivethirtyeight')\n",
    "import numpy as np\n",
    "import matplotlib.dates as mdates"
   ]
  },
  {
   "cell_type": "code",
   "execution_count": 3,
   "id": "02aac997",
   "metadata": {},
   "outputs": [
    {
     "data": {
      "text/html": [
       "<div>\n",
       "<style scoped>\n",
       "    .dataframe tbody tr th:only-of-type {\n",
       "        vertical-align: middle;\n",
       "    }\n",
       "\n",
       "    .dataframe tbody tr th {\n",
       "        vertical-align: top;\n",
       "    }\n",
       "\n",
       "    .dataframe thead th {\n",
       "        text-align: right;\n",
       "    }\n",
       "</style>\n",
       "<table border=\"1\" class=\"dataframe\">\n",
       "  <thead>\n",
       "    <tr style=\"text-align: right;\">\n",
       "      <th></th>\n",
       "      <th>Invoice_id</th>\n",
       "      <th>Cust_id</th>\n",
       "      <th>Product_Sub_category</th>\n",
       "      <th>Product_Category</th>\n",
       "      <th>Qty</th>\n",
       "      <th>Rate</th>\n",
       "      <th>Tax</th>\n",
       "      <th>Total_Amt</th>\n",
       "      <th>Store_type</th>\n",
       "    </tr>\n",
       "    <tr>\n",
       "      <th>Txn_date</th>\n",
       "      <th></th>\n",
       "      <th></th>\n",
       "      <th></th>\n",
       "      <th></th>\n",
       "      <th></th>\n",
       "      <th></th>\n",
       "      <th></th>\n",
       "      <th></th>\n",
       "      <th></th>\n",
       "    </tr>\n",
       "  </thead>\n",
       "  <tbody>\n",
       "    <tr>\n",
       "      <th>2016-01-02</th>\n",
       "      <td>80348907828</td>\n",
       "      <td>267124</td>\n",
       "      <td>Computers</td>\n",
       "      <td>Electronics</td>\n",
       "      <td>2</td>\n",
       "      <td>552</td>\n",
       "      <td>115.920</td>\n",
       "      <td>1219.920</td>\n",
       "      <td>TeleShop</td>\n",
       "    </tr>\n",
       "    <tr>\n",
       "      <th>2016-01-02</th>\n",
       "      <td>45127479223</td>\n",
       "      <td>273949</td>\n",
       "      <td>Kids</td>\n",
       "      <td>Books</td>\n",
       "      <td>1</td>\n",
       "      <td>366</td>\n",
       "      <td>38.430</td>\n",
       "      <td>404.430</td>\n",
       "      <td>Brick and Mortar</td>\n",
       "    </tr>\n",
       "    <tr>\n",
       "      <th>2016-01-02</th>\n",
       "      <td>21830961921</td>\n",
       "      <td>267482</td>\n",
       "      <td>Audio and video</td>\n",
       "      <td>Electronics</td>\n",
       "      <td>4</td>\n",
       "      <td>455</td>\n",
       "      <td>191.100</td>\n",
       "      <td>2011.100</td>\n",
       "      <td>Brick and Mortar</td>\n",
       "    </tr>\n",
       "    <tr>\n",
       "      <th>2016-01-02</th>\n",
       "      <td>35789988197</td>\n",
       "      <td>267508</td>\n",
       "      <td>Mens</td>\n",
       "      <td>Clothing</td>\n",
       "      <td>3</td>\n",
       "      <td>783</td>\n",
       "      <td>246.645</td>\n",
       "      <td>2595.645</td>\n",
       "      <td>e-Shop</td>\n",
       "    </tr>\n",
       "    <tr>\n",
       "      <th>2016-01-02</th>\n",
       "      <td>4947037174</td>\n",
       "      <td>271239</td>\n",
       "      <td>Electric appliances</td>\n",
       "      <td>Home and kitchen</td>\n",
       "      <td>3</td>\n",
       "      <td>228</td>\n",
       "      <td>71.820</td>\n",
       "      <td>755.820</td>\n",
       "      <td>e-Shop</td>\n",
       "    </tr>\n",
       "    <tr>\n",
       "      <th>...</th>\n",
       "      <td>...</td>\n",
       "      <td>...</td>\n",
       "      <td>...</td>\n",
       "      <td>...</td>\n",
       "      <td>...</td>\n",
       "      <td>...</td>\n",
       "      <td>...</td>\n",
       "      <td>...</td>\n",
       "      <td>...</td>\n",
       "    </tr>\n",
       "    <tr>\n",
       "      <th>2018-12-31</th>\n",
       "      <td>26100869804</td>\n",
       "      <td>273836</td>\n",
       "      <td>Cameras</td>\n",
       "      <td>Electronics</td>\n",
       "      <td>3</td>\n",
       "      <td>843</td>\n",
       "      <td>265.545</td>\n",
       "      <td>2794.545</td>\n",
       "      <td>e-Shop</td>\n",
       "    </tr>\n",
       "    <tr>\n",
       "      <th>2018-12-31</th>\n",
       "      <td>83963970126</td>\n",
       "      <td>274655</td>\n",
       "      <td>Kids</td>\n",
       "      <td>Clothing</td>\n",
       "      <td>5</td>\n",
       "      <td>213</td>\n",
       "      <td>111.825</td>\n",
       "      <td>1176.825</td>\n",
       "      <td>e-Shop</td>\n",
       "    </tr>\n",
       "    <tr>\n",
       "      <th>2018-12-31</th>\n",
       "      <td>51849180620</td>\n",
       "      <td>273963</td>\n",
       "      <td>Cameras</td>\n",
       "      <td>Electronics</td>\n",
       "      <td>3</td>\n",
       "      <td>617</td>\n",
       "      <td>194.355</td>\n",
       "      <td>2045.355</td>\n",
       "      <td>e-Shop</td>\n",
       "    </tr>\n",
       "    <tr>\n",
       "      <th>2018-12-31</th>\n",
       "      <td>55120134998</td>\n",
       "      <td>274052</td>\n",
       "      <td>Non-fiction</td>\n",
       "      <td>Books</td>\n",
       "      <td>3</td>\n",
       "      <td>143</td>\n",
       "      <td>45.045</td>\n",
       "      <td>474.045</td>\n",
       "      <td>Brick and Mortar</td>\n",
       "    </tr>\n",
       "    <tr>\n",
       "      <th>2018-12-31</th>\n",
       "      <td>56380733343</td>\n",
       "      <td>273570</td>\n",
       "      <td>Women</td>\n",
       "      <td>Clothing</td>\n",
       "      <td>2</td>\n",
       "      <td>1319</td>\n",
       "      <td>276.990</td>\n",
       "      <td>2914.990</td>\n",
       "      <td>Brick and Mortar</td>\n",
       "    </tr>\n",
       "  </tbody>\n",
       "</table>\n",
       "<p>19776 rows × 9 columns</p>\n",
       "</div>"
      ],
      "text/plain": [
       "             Invoice_id  Cust_id Product_Sub_category  Product_Category  Qty  \\\n",
       "Txn_date                                                                       \n",
       "2016-01-02  80348907828   267124            Computers       Electronics    2   \n",
       "2016-01-02  45127479223   273949                 Kids             Books    1   \n",
       "2016-01-02  21830961921   267482      Audio and video       Electronics    4   \n",
       "2016-01-02  35789988197   267508                 Mens          Clothing    3   \n",
       "2016-01-02   4947037174   271239  Electric appliances  Home and kitchen    3   \n",
       "...                 ...      ...                  ...               ...  ...   \n",
       "2018-12-31  26100869804   273836              Cameras       Electronics    3   \n",
       "2018-12-31  83963970126   274655                 Kids          Clothing    5   \n",
       "2018-12-31  51849180620   273963              Cameras       Electronics    3   \n",
       "2018-12-31  55120134998   274052          Non-fiction             Books    3   \n",
       "2018-12-31  56380733343   273570                Women          Clothing    2   \n",
       "\n",
       "            Rate      Tax  Total_Amt        Store_type  \n",
       "Txn_date                                                \n",
       "2016-01-02   552  115.920   1219.920          TeleShop  \n",
       "2016-01-02   366   38.430    404.430  Brick and Mortar  \n",
       "2016-01-02   455  191.100   2011.100  Brick and Mortar  \n",
       "2016-01-02   783  246.645   2595.645            e-Shop  \n",
       "2016-01-02   228   71.820    755.820            e-Shop  \n",
       "...          ...      ...        ...               ...  \n",
       "2018-12-31   843  265.545   2794.545            e-Shop  \n",
       "2018-12-31   213  111.825   1176.825            e-Shop  \n",
       "2018-12-31   617  194.355   2045.355            e-Shop  \n",
       "2018-12-31   143   45.045    474.045  Brick and Mortar  \n",
       "2018-12-31  1319  276.990   2914.990  Brick and Mortar  \n",
       "\n",
       "[19776 rows x 9 columns]"
      ]
     },
     "execution_count": 3,
     "metadata": {},
     "output_type": "execute_result"
    }
   ],
   "source": [
    "#data_set.  Clean data WITHOUT outliers \n",
    "df = pd.read_csv('data_no_outliers.csv')\n",
    "df = df.set_index('Txn_date')\n",
    "df.index = pd.to_datetime(df.index)\n",
    "df = df.sort_index()\n",
    "df"
   ]
  },
  {
   "cell_type": "code",
   "execution_count": 4,
   "id": "5b56e89e",
   "metadata": {},
   "outputs": [],
   "source": [
    "# Converting 'Total_Amt' column to numpy array and reshaping it\n",
    "data = df['Total_Amt'].values.reshape(-1, 1)\n",
    "\n",
    "# Scaling the values to range [0, 1]\n",
    "scaler = MinMaxScaler(feature_range=(0, 1))\n",
    "data_scaled = scaler.fit_transform(data)"
   ]
  },
  {
   "cell_type": "code",
   "execution_count": 5,
   "id": "b94ea7b5",
   "metadata": {},
   "outputs": [
    {
     "name": "stdout",
     "output_type": "stream",
     "text": [
      "Requirement already satisfied: tensorflow in /Users/pilatuspc12/anaconda3/lib/python3.10/site-packages (2.13.0)\n",
      "Requirement already satisfied: absl-py>=1.0.0 in /Users/pilatuspc12/anaconda3/lib/python3.10/site-packages (from tensorflow) (1.4.0)\n",
      "Requirement already satisfied: wrapt>=1.11.0 in /Users/pilatuspc12/anaconda3/lib/python3.10/site-packages (from tensorflow) (1.14.1)\n",
      "Requirement already satisfied: numpy<=1.24.3,>=1.22 in /Users/pilatuspc12/anaconda3/lib/python3.10/site-packages (from tensorflow) (1.23.5)\n",
      "Requirement already satisfied: six>=1.12.0 in /Users/pilatuspc12/anaconda3/lib/python3.10/site-packages (from tensorflow) (1.16.0)\n",
      "Requirement already satisfied: tensorflow-estimator<2.14,>=2.13.0 in /Users/pilatuspc12/anaconda3/lib/python3.10/site-packages (from tensorflow) (2.13.0)\n",
      "Requirement already satisfied: setuptools in /Users/pilatuspc12/anaconda3/lib/python3.10/site-packages (from tensorflow) (65.6.3)\n",
      "Requirement already satisfied: flatbuffers>=23.1.21 in /Users/pilatuspc12/anaconda3/lib/python3.10/site-packages (from tensorflow) (23.5.26)\n",
      "Requirement already satisfied: protobuf!=4.21.0,!=4.21.1,!=4.21.2,!=4.21.3,!=4.21.4,!=4.21.5,<5.0.0dev,>=3.20.3 in /Users/pilatuspc12/anaconda3/lib/python3.10/site-packages (from tensorflow) (4.23.4)\n",
      "Requirement already satisfied: astunparse>=1.6.0 in /Users/pilatuspc12/anaconda3/lib/python3.10/site-packages (from tensorflow) (1.6.3)\n",
      "Requirement already satisfied: typing-extensions<4.6.0,>=3.6.6 in /Users/pilatuspc12/anaconda3/lib/python3.10/site-packages (from tensorflow) (4.4.0)\n",
      "Requirement already satisfied: grpcio<2.0,>=1.24.3 in /Users/pilatuspc12/anaconda3/lib/python3.10/site-packages (from tensorflow) (1.56.2)\n",
      "Requirement already satisfied: termcolor>=1.1.0 in /Users/pilatuspc12/anaconda3/lib/python3.10/site-packages (from tensorflow) (2.3.0)\n",
      "Requirement already satisfied: keras<2.14,>=2.13.1 in /Users/pilatuspc12/anaconda3/lib/python3.10/site-packages (from tensorflow) (2.13.1)\n",
      "Requirement already satisfied: gast<=0.4.0,>=0.2.1 in /Users/pilatuspc12/anaconda3/lib/python3.10/site-packages (from tensorflow) (0.4.0)\n",
      "Requirement already satisfied: google-pasta>=0.1.1 in /Users/pilatuspc12/anaconda3/lib/python3.10/site-packages (from tensorflow) (0.2.0)\n",
      "Requirement already satisfied: tensorflow-io-gcs-filesystem>=0.23.1 in /Users/pilatuspc12/anaconda3/lib/python3.10/site-packages (from tensorflow) (0.32.0)\n",
      "Requirement already satisfied: opt-einsum>=2.3.2 in /Users/pilatuspc12/anaconda3/lib/python3.10/site-packages (from tensorflow) (3.3.0)\n",
      "Requirement already satisfied: tensorboard<2.14,>=2.13 in /Users/pilatuspc12/anaconda3/lib/python3.10/site-packages (from tensorflow) (2.13.0)\n",
      "Requirement already satisfied: libclang>=13.0.0 in /Users/pilatuspc12/anaconda3/lib/python3.10/site-packages (from tensorflow) (16.0.6)\n",
      "Requirement already satisfied: h5py>=2.9.0 in /Users/pilatuspc12/anaconda3/lib/python3.10/site-packages (from tensorflow) (3.7.0)\n",
      "Requirement already satisfied: packaging in /Users/pilatuspc12/anaconda3/lib/python3.10/site-packages (from tensorflow) (22.0)\n",
      "Requirement already satisfied: wheel<1.0,>=0.23.0 in /Users/pilatuspc12/anaconda3/lib/python3.10/site-packages (from astunparse>=1.6.0->tensorflow) (0.38.4)\n",
      "Requirement already satisfied: google-auth-oauthlib<1.1,>=0.5 in /Users/pilatuspc12/anaconda3/lib/python3.10/site-packages (from tensorboard<2.14,>=2.13->tensorflow) (1.0.0)\n",
      "Requirement already satisfied: tensorboard-data-server<0.8.0,>=0.7.0 in /Users/pilatuspc12/anaconda3/lib/python3.10/site-packages (from tensorboard<2.14,>=2.13->tensorflow) (0.7.1)\n",
      "Requirement already satisfied: werkzeug>=1.0.1 in /Users/pilatuspc12/anaconda3/lib/python3.10/site-packages (from tensorboard<2.14,>=2.13->tensorflow) (2.2.2)\n",
      "Requirement already satisfied: google-auth<3,>=1.6.3 in /Users/pilatuspc12/anaconda3/lib/python3.10/site-packages (from tensorboard<2.14,>=2.13->tensorflow) (2.22.0)\n",
      "Requirement already satisfied: markdown>=2.6.8 in /Users/pilatuspc12/anaconda3/lib/python3.10/site-packages (from tensorboard<2.14,>=2.13->tensorflow) (3.4.1)\n",
      "Requirement already satisfied: requests<3,>=2.21.0 in /Users/pilatuspc12/anaconda3/lib/python3.10/site-packages (from tensorboard<2.14,>=2.13->tensorflow) (2.31.0)\n",
      "Requirement already satisfied: urllib3<2.0 in /Users/pilatuspc12/anaconda3/lib/python3.10/site-packages (from google-auth<3,>=1.6.3->tensorboard<2.14,>=2.13->tensorflow) (1.26.14)\n",
      "Requirement already satisfied: pyasn1-modules>=0.2.1 in /Users/pilatuspc12/anaconda3/lib/python3.10/site-packages (from google-auth<3,>=1.6.3->tensorboard<2.14,>=2.13->tensorflow) (0.2.8)\n",
      "Requirement already satisfied: cachetools<6.0,>=2.0.0 in /Users/pilatuspc12/anaconda3/lib/python3.10/site-packages (from google-auth<3,>=1.6.3->tensorboard<2.14,>=2.13->tensorflow) (5.3.1)\n",
      "Requirement already satisfied: rsa<5,>=3.1.4 in /Users/pilatuspc12/anaconda3/lib/python3.10/site-packages (from google-auth<3,>=1.6.3->tensorboard<2.14,>=2.13->tensorflow) (4.9)\n",
      "Requirement already satisfied: requests-oauthlib>=0.7.0 in /Users/pilatuspc12/anaconda3/lib/python3.10/site-packages (from google-auth-oauthlib<1.1,>=0.5->tensorboard<2.14,>=2.13->tensorflow) (1.3.1)\n",
      "Requirement already satisfied: certifi>=2017.4.17 in /Users/pilatuspc12/anaconda3/lib/python3.10/site-packages (from requests<3,>=2.21.0->tensorboard<2.14,>=2.13->tensorflow) (2023.5.7)\n",
      "Requirement already satisfied: charset-normalizer<4,>=2 in /Users/pilatuspc12/anaconda3/lib/python3.10/site-packages (from requests<3,>=2.21.0->tensorboard<2.14,>=2.13->tensorflow) (2.0.4)\n",
      "Requirement already satisfied: idna<4,>=2.5 in /Users/pilatuspc12/anaconda3/lib/python3.10/site-packages (from requests<3,>=2.21.0->tensorboard<2.14,>=2.13->tensorflow) (3.4)\n",
      "Requirement already satisfied: MarkupSafe>=2.1.1 in /Users/pilatuspc12/anaconda3/lib/python3.10/site-packages (from werkzeug>=1.0.1->tensorboard<2.14,>=2.13->tensorflow) (2.1.1)\n",
      "Requirement already satisfied: pyasn1<0.5.0,>=0.4.6 in /Users/pilatuspc12/anaconda3/lib/python3.10/site-packages (from pyasn1-modules>=0.2.1->google-auth<3,>=1.6.3->tensorboard<2.14,>=2.13->tensorflow) (0.4.8)\n",
      "Requirement already satisfied: oauthlib>=3.0.0 in /Users/pilatuspc12/anaconda3/lib/python3.10/site-packages (from requests-oauthlib>=0.7.0->google-auth-oauthlib<1.1,>=0.5->tensorboard<2.14,>=2.13->tensorflow) (3.2.2)\n"
     ]
    }
   ],
   "source": [
    "!pip install tensorflow\n"
   ]
  },
  {
   "cell_type": "code",
   "execution_count": 6,
   "id": "5d80776c",
   "metadata": {},
   "outputs": [
    {
     "name": "stderr",
     "output_type": "stream",
     "text": [
      "2023-07-31 11:45:18.037235: I tensorflow/core/platform/cpu_feature_guard.cc:182] This TensorFlow binary is optimized to use available CPU instructions in performance-critical operations.\n",
      "To enable the following instructions: AVX2 FMA, in other operations, rebuild TensorFlow with the appropriate compiler flags.\n"
     ]
    }
   ],
   "source": [
    "import numpy as np\n",
    "from sklearn.model_selection import train_test_split\n",
    "from tensorflow.keras.models import Sequential\n",
    "from tensorflow.keras.layers import Dense, LSTM\n",
    "import matplotlib.pyplot as plt\n"
   ]
  },
  {
   "cell_type": "code",
   "execution_count": 7,
   "id": "047952fa",
   "metadata": {},
   "outputs": [],
   "source": [
    "\n",
    "# Assuming 'df' is your DataFrame and 'Total_Amt' is the column you want to forecast\n",
    "data = df['Total_Amt'].values"
   ]
  },
  {
   "cell_type": "code",
   "execution_count": 8,
   "id": "2d24b1de",
   "metadata": {},
   "outputs": [],
   "source": [
    "# Normalize the data between 0 and 1\n",
    "scaler = MinMaxScaler()\n",
    "data = scaler.fit_transform(data.reshape(-1, 1))\n"
   ]
  },
  {
   "cell_type": "code",
   "execution_count": 9,
   "id": "3196d1ac",
   "metadata": {},
   "outputs": [],
   "source": [
    "# Split the data\n",
    "train_size = int(len(data) * 0.8)\n",
    "train, test = data[:train_size, :], data[train_size:, :]"
   ]
  },
  {
   "cell_type": "code",
   "execution_count": 10,
   "id": "420c022f",
   "metadata": {},
   "outputs": [],
   "source": [
    "\n",
    "# Convert an array of values into a dataset matrix\n",
    "def create_dataset(dataset, look_back=1):\n",
    "    dataX, dataY = [], []\n",
    "    for i in range(len(dataset)-look_back-1):\n",
    "        a = dataset[i:(i+look_back), 0]\n",
    "        dataX.append(a)\n",
    "        dataY.append(dataset[i + look_back, 0])\n",
    "    return np.array(dataX), np.array(dataY)\n",
    "\n"
   ]
  },
  {
   "cell_type": "code",
   "execution_count": 11,
   "id": "a7626721",
   "metadata": {},
   "outputs": [],
   "source": [
    "# Create the data to train our model on:\n",
    "time_steps = 36\n",
    "X_train, y_train = create_dataset(train, time_steps)\n",
    "X_test, y_test = create_dataset(test, time_steps)"
   ]
  },
  {
   "cell_type": "code",
   "execution_count": 12,
   "id": "924d873d",
   "metadata": {},
   "outputs": [],
   "source": [
    "\n",
    "# Reshape it [samples, time steps, features]\n",
    "X_train = np.reshape(X_train, (X_train.shape[0], 36, 1))\n",
    "X_test = np.reshape(X_test, (X_test.shape[0], 36, 1))"
   ]
  },
  {
   "cell_type": "code",
   "execution_count": 13,
   "id": "11c758d1",
   "metadata": {},
   "outputs": [],
   "source": [
    "\n",
    "# Build the model\n",
    "model = Sequential()\n",
    "model.add(LSTM(128, input_shape=(X_train.shape[1], X_train.shape[2])))\n",
    "model.add(Dense(1))\n",
    "model.compile(loss='mean_squared_error', optimizer='adam')\n"
   ]
  },
  {
   "cell_type": "code",
   "execution_count": 14,
   "id": "176273ea",
   "metadata": {},
   "outputs": [
    {
     "name": "stdout",
     "output_type": "stream",
     "text": [
      "Epoch 1/20\n",
      "790/790 [==============================] - 8s 9ms/step - loss: 0.0598\n",
      "Epoch 2/20\n",
      "790/790 [==============================] - 7s 9ms/step - loss: 0.0588\n",
      "Epoch 3/20\n",
      "790/790 [==============================] - 7s 9ms/step - loss: 0.0587\n",
      "Epoch 4/20\n",
      "790/790 [==============================] - 7s 9ms/step - loss: 0.0587\n",
      "Epoch 5/20\n",
      "790/790 [==============================] - 8s 11ms/step - loss: 0.0587\n",
      "Epoch 6/20\n",
      "790/790 [==============================] - 8s 10ms/step - loss: 0.0587\n",
      "Epoch 7/20\n",
      "790/790 [==============================] - 7s 9ms/step - loss: 0.0586\n",
      "Epoch 8/20\n",
      "790/790 [==============================] - 7s 9ms/step - loss: 0.0586\n",
      "Epoch 9/20\n",
      "790/790 [==============================] - 7s 9ms/step - loss: 0.0586\n",
      "Epoch 10/20\n",
      "790/790 [==============================] - 7s 9ms/step - loss: 0.0585\n",
      "Epoch 11/20\n",
      "790/790 [==============================] - 7s 9ms/step - loss: 0.0585\n",
      "Epoch 12/20\n",
      "790/790 [==============================] - 7s 9ms/step - loss: 0.0586\n",
      "Epoch 13/20\n",
      "790/790 [==============================] - 7s 9ms/step - loss: 0.0585\n",
      "Epoch 14/20\n",
      "790/790 [==============================] - 8s 11ms/step - loss: 0.0585\n",
      "Epoch 15/20\n",
      "790/790 [==============================] - 7s 9ms/step - loss: 0.0585\n",
      "Epoch 16/20\n",
      "790/790 [==============================] - 7s 9ms/step - loss: 0.0585\n",
      "Epoch 17/20\n",
      "790/790 [==============================] - 7s 9ms/step - loss: 0.0585\n",
      "Epoch 18/20\n",
      "790/790 [==============================] - 7s 9ms/step - loss: 0.0585\n",
      "Epoch 19/20\n",
      "790/790 [==============================] - 8s 10ms/step - loss: 0.0585\n",
      "Epoch 20/20\n",
      "790/790 [==============================] - 8s 10ms/step - loss: 0.0585\n"
     ]
    },
    {
     "data": {
      "text/plain": [
       "<keras.src.callbacks.History at 0x7fef98ceca30>"
      ]
     },
     "execution_count": 14,
     "metadata": {},
     "output_type": "execute_result"
    }
   ],
   "source": [
    "# Train the model\n",
    "model.fit(X_train, y_train, epochs=20, batch_size=20)"
   ]
  },
  {
   "cell_type": "code",
   "execution_count": 15,
   "id": "2a89665a",
   "metadata": {},
   "outputs": [
    {
     "name": "stdout",
     "output_type": "stream",
     "text": [
      "494/494 [==============================] - 3s 5ms/step\n",
      "123/123 [==============================] - 1s 5ms/step\n"
     ]
    }
   ],
   "source": [
    "# Predict\n",
    "train_predict = model.predict(X_train)\n",
    "test_predict = model.predict(X_test)"
   ]
  },
  {
   "cell_type": "code",
   "execution_count": 20,
   "id": "78d1c827",
   "metadata": {},
   "outputs": [
    {
     "ename": "ValueError",
     "evalue": "Found array with dim 3. None expected <= 2.",
     "output_type": "error",
     "traceback": [
      "\u001b[0;31m---------------------------------------------------------------------------\u001b[0m",
      "\u001b[0;31mValueError\u001b[0m                                Traceback (most recent call last)",
      "Cell \u001b[0;32mIn[20], line 3\u001b[0m\n\u001b[1;32m      1\u001b[0m \u001b[38;5;66;03m# Invert predictions back to original scale\u001b[39;00m\n\u001b[1;32m      2\u001b[0m train_predict \u001b[38;5;241m=\u001b[39m scaler\u001b[38;5;241m.\u001b[39minverse_transform(train_predict)\n\u001b[0;32m----> 3\u001b[0m y_train \u001b[38;5;241m=\u001b[39m \u001b[43mscaler\u001b[49m\u001b[38;5;241;43m.\u001b[39;49m\u001b[43minverse_transform\u001b[49m\u001b[43m(\u001b[49m\u001b[43m[\u001b[49m\u001b[43my_train\u001b[49m\u001b[43m]\u001b[49m\u001b[43m)\u001b[49m\n\u001b[1;32m      4\u001b[0m test_predict \u001b[38;5;241m=\u001b[39m scaler\u001b[38;5;241m.\u001b[39minverse_transform(test_predict)\n\u001b[1;32m      5\u001b[0m y_test \u001b[38;5;241m=\u001b[39m scaler\u001b[38;5;241m.\u001b[39minverse_transform([y_test])\n",
      "File \u001b[0;32m~/anaconda3/lib/python3.10/site-packages/sklearn/preprocessing/_data.py:537\u001b[0m, in \u001b[0;36mMinMaxScaler.inverse_transform\u001b[0;34m(self, X)\u001b[0m\n\u001b[1;32m    523\u001b[0m \u001b[38;5;124;03m\"\"\"Undo the scaling of X according to feature_range.\u001b[39;00m\n\u001b[1;32m    524\u001b[0m \n\u001b[1;32m    525\u001b[0m \u001b[38;5;124;03mParameters\u001b[39;00m\n\u001b[0;32m   (...)\u001b[0m\n\u001b[1;32m    533\u001b[0m \u001b[38;5;124;03m    Transformed data.\u001b[39;00m\n\u001b[1;32m    534\u001b[0m \u001b[38;5;124;03m\"\"\"\u001b[39;00m\n\u001b[1;32m    535\u001b[0m check_is_fitted(\u001b[38;5;28mself\u001b[39m)\n\u001b[0;32m--> 537\u001b[0m X \u001b[38;5;241m=\u001b[39m \u001b[43mcheck_array\u001b[49m\u001b[43m(\u001b[49m\n\u001b[1;32m    538\u001b[0m \u001b[43m    \u001b[49m\u001b[43mX\u001b[49m\u001b[43m,\u001b[49m\u001b[43m \u001b[49m\u001b[43mcopy\u001b[49m\u001b[38;5;241;43m=\u001b[39;49m\u001b[38;5;28;43mself\u001b[39;49m\u001b[38;5;241;43m.\u001b[39;49m\u001b[43mcopy\u001b[49m\u001b[43m,\u001b[49m\u001b[43m \u001b[49m\u001b[43mdtype\u001b[49m\u001b[38;5;241;43m=\u001b[39;49m\u001b[43mFLOAT_DTYPES\u001b[49m\u001b[43m,\u001b[49m\u001b[43m \u001b[49m\u001b[43mforce_all_finite\u001b[49m\u001b[38;5;241;43m=\u001b[39;49m\u001b[38;5;124;43m\"\u001b[39;49m\u001b[38;5;124;43mallow-nan\u001b[39;49m\u001b[38;5;124;43m\"\u001b[39;49m\n\u001b[1;32m    539\u001b[0m \u001b[43m\u001b[49m\u001b[43m)\u001b[49m\n\u001b[1;32m    541\u001b[0m X \u001b[38;5;241m-\u001b[39m\u001b[38;5;241m=\u001b[39m \u001b[38;5;28mself\u001b[39m\u001b[38;5;241m.\u001b[39mmin_\n\u001b[1;32m    542\u001b[0m X \u001b[38;5;241m/\u001b[39m\u001b[38;5;241m=\u001b[39m \u001b[38;5;28mself\u001b[39m\u001b[38;5;241m.\u001b[39mscale_\n",
      "File \u001b[0;32m~/anaconda3/lib/python3.10/site-packages/sklearn/utils/validation.py:915\u001b[0m, in \u001b[0;36mcheck_array\u001b[0;34m(array, accept_sparse, accept_large_sparse, dtype, order, copy, force_all_finite, ensure_2d, allow_nd, ensure_min_samples, ensure_min_features, estimator, input_name)\u001b[0m\n\u001b[1;32m    910\u001b[0m     \u001b[38;5;28;01mraise\u001b[39;00m \u001b[38;5;167;01mValueError\u001b[39;00m(\n\u001b[1;32m    911\u001b[0m         \u001b[38;5;124m\"\u001b[39m\u001b[38;5;124mdtype=\u001b[39m\u001b[38;5;124m'\u001b[39m\u001b[38;5;124mnumeric\u001b[39m\u001b[38;5;124m'\u001b[39m\u001b[38;5;124m is not compatible with arrays of bytes/strings.\u001b[39m\u001b[38;5;124m\"\u001b[39m\n\u001b[1;32m    912\u001b[0m         \u001b[38;5;124m\"\u001b[39m\u001b[38;5;124mConvert your data to numeric values explicitly instead.\u001b[39m\u001b[38;5;124m\"\u001b[39m\n\u001b[1;32m    913\u001b[0m     )\n\u001b[1;32m    914\u001b[0m \u001b[38;5;28;01mif\u001b[39;00m \u001b[38;5;129;01mnot\u001b[39;00m allow_nd \u001b[38;5;129;01mand\u001b[39;00m array\u001b[38;5;241m.\u001b[39mndim \u001b[38;5;241m>\u001b[39m\u001b[38;5;241m=\u001b[39m \u001b[38;5;241m3\u001b[39m:\n\u001b[0;32m--> 915\u001b[0m     \u001b[38;5;28;01mraise\u001b[39;00m \u001b[38;5;167;01mValueError\u001b[39;00m(\n\u001b[1;32m    916\u001b[0m         \u001b[38;5;124m\"\u001b[39m\u001b[38;5;124mFound array with dim \u001b[39m\u001b[38;5;132;01m%d\u001b[39;00m\u001b[38;5;124m. \u001b[39m\u001b[38;5;132;01m%s\u001b[39;00m\u001b[38;5;124m expected <= 2.\u001b[39m\u001b[38;5;124m\"\u001b[39m\n\u001b[1;32m    917\u001b[0m         \u001b[38;5;241m%\u001b[39m (array\u001b[38;5;241m.\u001b[39mndim, estimator_name)\n\u001b[1;32m    918\u001b[0m     )\n\u001b[1;32m    920\u001b[0m \u001b[38;5;28;01mif\u001b[39;00m force_all_finite:\n\u001b[1;32m    921\u001b[0m     _assert_all_finite(\n\u001b[1;32m    922\u001b[0m         array,\n\u001b[1;32m    923\u001b[0m         input_name\u001b[38;5;241m=\u001b[39minput_name,\n\u001b[1;32m    924\u001b[0m         estimator_name\u001b[38;5;241m=\u001b[39mestimator_name,\n\u001b[1;32m    925\u001b[0m         allow_nan\u001b[38;5;241m=\u001b[39mforce_all_finite \u001b[38;5;241m==\u001b[39m \u001b[38;5;124m\"\u001b[39m\u001b[38;5;124mallow-nan\u001b[39m\u001b[38;5;124m\"\u001b[39m,\n\u001b[1;32m    926\u001b[0m     )\n",
      "\u001b[0;31mValueError\u001b[0m: Found array with dim 3. None expected <= 2."
     ]
    }
   ],
   "source": [
    "# Invert predictions back to original scale\n",
    "train_predict = scaler.inverse_transform(train_predict)\n",
    "y_train = scaler.inverse_transform([y_train])\n",
    "test_predict = scaler.inverse_transform(test_predict)\n",
    "y_test = scaler.inverse_transform([y_test])"
   ]
  },
  {
   "cell_type": "code",
   "execution_count": 21,
   "id": "cd8429aa",
   "metadata": {},
   "outputs": [
    {
     "data": {
      "image/png": "[encoded data removed]",
      "text/plain": [
       "<Figure size 800x400 with 1 Axes>"
      ]
     },
     "metadata": {},
     "output_type": "display_data"
    }
   ],
   "source": [
    "# Plotting the data\n",
    "plt.figure(figsize=(8,4))\n",
    "plt.plot(y_test[0], label='Test Actual')\n",
    "plt.plot(test_predict[:,0], label='Test Prediction')\n",
    "plt.legend()\n",
    "plt.show()"
   ]
  },
  {
   "cell_type": "code",
   "execution_count": 22,
   "id": "99033de6",
   "metadata": {},
   "outputs": [
    {
     "name": "stdout",
     "output_type": "stream",
     "text": [
      "Train Score: 20019510.13 RMSE\n",
      "Test Score: 1882.70 RMSE\n",
      "Train Score: 20017918.05 MAE\n",
      "Test Score: 1551.59 MAE\n"
     ]
    }
   ],
   "source": [
    "from sklearn.metrics import mean_squared_error, mean_absolute_error\n",
    "import math\n",
    "\n",
    "# calculate root mean squared error\n",
    "trainScore = math.sqrt(mean_squared_error(y_train[0], train_predict[:,0]))\n",
    "print('Train Score: %.2f RMSE' % (trainScore))\n",
    "testScore = math.sqrt(mean_squared_error(y_test[0], test_predict[:,0]))\n",
    "print('Test Score: %.2f RMSE' % (testScore))\n",
    "\n",
    "# calculate mean absolute error\n",
    "trainScore_MAE = mean_absolute_error(y_train[0], train_predict[:,0])\n",
    "print('Train Score: %.2f MAE' % (trainScore_MAE))\n",
    "testScore_MAE = mean_absolute_error(y_test[0], test_predict[:,0])\n",
    "print('Test Score: %.2f MAE' % (testScore_MAE))\n"
   ]
  },
  {
   "cell_type": "code",
   "execution_count": 23,
   "id": "41d4d9a1",
   "metadata": {},
   "outputs": [],
   "source": [
    "import numpy as np\n",
    "import pandas as pd\n",
    "import matplotlib.pyplot as plt\n",
    "from tensorflow.keras.models import Sequential\n",
    "from tensorflow.keras.layers import LSTM, Dense\n",
    "from sklearn.preprocessing import MinMaxScaler\n",
    "from sklearn.metrics import mean_squared_error, mean_absolute_error\n",
    "from math import sqrt"
   ]
  },
  {
   "cell_type": "code",
   "execution_count": 24,
   "id": "4bdb88b6",
   "metadata": {},
   "outputs": [
    {
     "ename": "NameError",
     "evalue": "name 'look_back' is not defined",
     "output_type": "error",
     "traceback": [
      "\u001b[0;31m---------------------------------------------------------------------------\u001b[0m",
      "\u001b[0;31mNameError\u001b[0m                                 Traceback (most recent call last)",
      "Cell \u001b[0;32mIn[24], line 14\u001b[0m\n\u001b[1;32m     11\u001b[0m     \u001b[38;5;28;01mreturn\u001b[39;00m np\u001b[38;5;241m.\u001b[39marray(X), np\u001b[38;5;241m.\u001b[39marray(y)\n\u001b[1;32m     13\u001b[0m \u001b[38;5;66;03m# Replace 'Total_Amt' with your actual column name\u001b[39;00m\n\u001b[0;32m---> 14\u001b[0m X, y \u001b[38;5;241m=\u001b[39m split_sequence(df[\u001b[38;5;124m'\u001b[39m\u001b[38;5;124mTotal_Amt\u001b[39m\u001b[38;5;124m'\u001b[39m]\u001b[38;5;241m.\u001b[39mvalues, \u001b[43mlook_back\u001b[49m, n_steps_out)\n",
      "\u001b[0;31mNameError\u001b[0m: name 'look_back' is not defined"
     ]
    }
   ],
   "source": [
    "def split_sequence(sequence, n_steps_in, n_steps_out):\n",
    "    X, y = list(), list()\n",
    "    for i in range(len(sequence)):\n",
    "        end_ix = i + n_steps_in\n",
    "        out_end_ix = end_ix + n_steps_out\n",
    "        if out_end_ix > len(sequence):\n",
    "            break\n",
    "        seq_x, seq_y = sequence[i:end_ix], sequence[end_ix:out_end_ix]\n",
    "        X.append(seq_x)\n",
    "        y.append(seq_y)\n",
    "    return np.array(X), np.array(y)\n",
    "\n",
    "# Replace 'Total_Amt' with your actual column name\n",
    "X, y = split_sequence(df['Total_Amt'].values, look_back, n_steps_out)\n",
    "\n",
    "\n"
   ]
  },
  {
   "cell_type": "code",
   "execution_count": 25,
   "id": "9bfb86a9",
   "metadata": {},
   "outputs": [
    {
     "ename": "NameError",
     "evalue": "name 'look_back' is not defined",
     "output_type": "error",
     "traceback": [
      "\u001b[0;31m---------------------------------------------------------------------------\u001b[0m",
      "\u001b[0;31mNameError\u001b[0m                                 Traceback (most recent call last)",
      "Cell \u001b[0;32mIn[25], line 1\u001b[0m\n\u001b[0;32m----> 1\u001b[0m X, y \u001b[38;5;241m=\u001b[39m split_sequence(df[\u001b[38;5;124m'\u001b[39m\u001b[38;5;124mTotal_Amt\u001b[39m\u001b[38;5;124m'\u001b[39m]\u001b[38;5;241m.\u001b[39mvalues, \u001b[43mlook_back\u001b[49m, n_steps_out)\n\u001b[1;32m      2\u001b[0m X \u001b[38;5;241m=\u001b[39m X\u001b[38;5;241m.\u001b[39mreshape((X\u001b[38;5;241m.\u001b[39mshape[\u001b[38;5;241m0\u001b[39m], X\u001b[38;5;241m.\u001b[39mshape[\u001b[38;5;241m1\u001b[39m], n_features))\n\u001b[1;32m      4\u001b[0m \u001b[38;5;66;03m# Train-test split\u001b[39;00m\n",
      "\u001b[0;31mNameError\u001b[0m: name 'look_back' is not defined"
     ]
    }
   ],
   "source": [
    "X, y = split_sequence(df['Total_Amt'].values, look_back, n_steps_out)\n",
    "X = X.reshape((X.shape[0], X.shape[1], n_features))\n",
    "\n",
    "# Train-test split\n",
    "train_size = int(len(X) * 0.8)\n",
    "X_train, y_train = X[:train_size], y[:train_size]\n",
    "X_test, y_test = X[train_size:], y[train_size:]"
   ]
  },
  {
   "cell_type": "code",
   "execution_count": 26,
   "id": "55461095",
   "metadata": {},
   "outputs": [
    {
     "ename": "NameError",
     "evalue": "name 'look_back' is not defined",
     "output_type": "error",
     "traceback": [
      "\u001b[0;31m---------------------------------------------------------------------------\u001b[0m",
      "\u001b[0;31mNameError\u001b[0m                                 Traceback (most recent call last)",
      "Cell \u001b[0;32mIn[26], line 3\u001b[0m\n\u001b[1;32m      1\u001b[0m \u001b[38;5;66;03m# LSTM model\u001b[39;00m\n\u001b[1;32m      2\u001b[0m model \u001b[38;5;241m=\u001b[39m Sequential()\n\u001b[0;32m----> 3\u001b[0m model\u001b[38;5;241m.\u001b[39madd(LSTM(\u001b[38;5;241m50\u001b[39m, activation\u001b[38;5;241m=\u001b[39m\u001b[38;5;124m'\u001b[39m\u001b[38;5;124mrelu\u001b[39m\u001b[38;5;124m'\u001b[39m, input_shape\u001b[38;5;241m=\u001b[39m(\u001b[43mlook_back\u001b[49m, n_features)))\n\u001b[1;32m      4\u001b[0m model\u001b[38;5;241m.\u001b[39madd(Dense(n_steps_out))\n\u001b[1;32m      5\u001b[0m model\u001b[38;5;241m.\u001b[39mcompile(optimizer\u001b[38;5;241m=\u001b[39m\u001b[38;5;124m'\u001b[39m\u001b[38;5;124madam\u001b[39m\u001b[38;5;124m'\u001b[39m, loss\u001b[38;5;241m=\u001b[39m\u001b[38;5;124m'\u001b[39m\u001b[38;5;124mmse\u001b[39m\u001b[38;5;124m'\u001b[39m)\n",
      "\u001b[0;31mNameError\u001b[0m: name 'look_back' is not defined"
     ]
    }
   ],
   "source": [
    "# LSTM model\n",
    "model = Sequential()\n",
    "model.add(LSTM(50, activation='relu', input_shape=(look_back, n_features)))\n",
    "model.add(Dense(n_steps_out))\n",
    "model.compile(optimizer='adam', loss='mse')\n",
    "\n",
    "# Model training\n",
    "model.fit(X_train, y_train, epochs=20, verbose=0)"
   ]
  },
  {
   "cell_type": "code",
   "execution_count": 27,
   "id": "582ee985",
   "metadata": {},
   "outputs": [
    {
     "name": "stdout",
     "output_type": "stream",
     "text": [
      "494/494 [==============================] - 0s 423us/step\n",
      "123/123 [==============================] - 0s 433us/step\n"
     ]
    }
   ],
   "source": [
    "\n",
    "# Predictions\n",
    "trainPredict = model.predict(X_train)\n",
    "testPredict = model.predict(X_test)\n",
    "\n"
   ]
  },
  {
   "cell_type": "code",
   "execution_count": 28,
   "id": "fcca9801",
   "metadata": {},
   "outputs": [
    {
     "ename": "ValueError",
     "evalue": "Found array with dim 3. None expected <= 2.",
     "output_type": "error",
     "traceback": [
      "\u001b[0;31m---------------------------------------------------------------------------\u001b[0m",
      "\u001b[0;31mValueError\u001b[0m                                Traceback (most recent call last)",
      "Cell \u001b[0;32mIn[28], line 4\u001b[0m\n\u001b[1;32m      2\u001b[0m scaler \u001b[38;5;241m=\u001b[39m MinMaxScaler(feature_range\u001b[38;5;241m=\u001b[39m(\u001b[38;5;241m0\u001b[39m, \u001b[38;5;241m1\u001b[39m))\n\u001b[1;32m      3\u001b[0m dataset \u001b[38;5;241m=\u001b[39m scaler\u001b[38;5;241m.\u001b[39mfit_transform(df[\u001b[38;5;124m'\u001b[39m\u001b[38;5;124mTotal_Amt\u001b[39m\u001b[38;5;124m'\u001b[39m]\u001b[38;5;241m.\u001b[39mvalues\u001b[38;5;241m.\u001b[39mreshape(\u001b[38;5;241m-\u001b[39m\u001b[38;5;241m1\u001b[39m, \u001b[38;5;241m1\u001b[39m))\n\u001b[0;32m----> 4\u001b[0m trainPredict \u001b[38;5;241m=\u001b[39m \u001b[43mscaler\u001b[49m\u001b[38;5;241;43m.\u001b[39;49m\u001b[43minverse_transform\u001b[49m\u001b[43m(\u001b[49m\u001b[43mtrainPredict\u001b[49m\u001b[43m)\u001b[49m\n\u001b[1;32m      5\u001b[0m y_train \u001b[38;5;241m=\u001b[39m scaler\u001b[38;5;241m.\u001b[39minverse_transform(y_train\u001b[38;5;241m.\u001b[39mreshape(y_train\u001b[38;5;241m.\u001b[39mshape[\u001b[38;5;241m0\u001b[39m], y_train\u001b[38;5;241m.\u001b[39mshape[\u001b[38;5;241m1\u001b[39m]))\n\u001b[1;32m      6\u001b[0m testPredict \u001b[38;5;241m=\u001b[39m scaler\u001b[38;5;241m.\u001b[39minverse_transform(testPredict)\n",
      "File \u001b[0;32m~/anaconda3/lib/python3.10/site-packages/sklearn/preprocessing/_data.py:537\u001b[0m, in \u001b[0;36mMinMaxScaler.inverse_transform\u001b[0;34m(self, X)\u001b[0m\n\u001b[1;32m    523\u001b[0m \u001b[38;5;124;03m\"\"\"Undo the scaling of X according to feature_range.\u001b[39;00m\n\u001b[1;32m    524\u001b[0m \n\u001b[1;32m    525\u001b[0m \u001b[38;5;124;03mParameters\u001b[39;00m\n\u001b[0;32m   (...)\u001b[0m\n\u001b[1;32m    533\u001b[0m \u001b[38;5;124;03m    Transformed data.\u001b[39;00m\n\u001b[1;32m    534\u001b[0m \u001b[38;5;124;03m\"\"\"\u001b[39;00m\n\u001b[1;32m    535\u001b[0m check_is_fitted(\u001b[38;5;28mself\u001b[39m)\n\u001b[0;32m--> 537\u001b[0m X \u001b[38;5;241m=\u001b[39m \u001b[43mcheck_array\u001b[49m\u001b[43m(\u001b[49m\n\u001b[1;32m    538\u001b[0m \u001b[43m    \u001b[49m\u001b[43mX\u001b[49m\u001b[43m,\u001b[49m\u001b[43m \u001b[49m\u001b[43mcopy\u001b[49m\u001b[38;5;241;43m=\u001b[39;49m\u001b[38;5;28;43mself\u001b[39;49m\u001b[38;5;241;43m.\u001b[39;49m\u001b[43mcopy\u001b[49m\u001b[43m,\u001b[49m\u001b[43m \u001b[49m\u001b[43mdtype\u001b[49m\u001b[38;5;241;43m=\u001b[39;49m\u001b[43mFLOAT_DTYPES\u001b[49m\u001b[43m,\u001b[49m\u001b[43m \u001b[49m\u001b[43mforce_all_finite\u001b[49m\u001b[38;5;241;43m=\u001b[39;49m\u001b[38;5;124;43m\"\u001b[39;49m\u001b[38;5;124;43mallow-nan\u001b[39;49m\u001b[38;5;124;43m\"\u001b[39;49m\n\u001b[1;32m    539\u001b[0m \u001b[43m\u001b[49m\u001b[43m)\u001b[49m\n\u001b[1;32m    541\u001b[0m X \u001b[38;5;241m-\u001b[39m\u001b[38;5;241m=\u001b[39m \u001b[38;5;28mself\u001b[39m\u001b[38;5;241m.\u001b[39mmin_\n\u001b[1;32m    542\u001b[0m X \u001b[38;5;241m/\u001b[39m\u001b[38;5;241m=\u001b[39m \u001b[38;5;28mself\u001b[39m\u001b[38;5;241m.\u001b[39mscale_\n",
      "File \u001b[0;32m~/anaconda3/lib/python3.10/site-packages/sklearn/utils/validation.py:915\u001b[0m, in \u001b[0;36mcheck_array\u001b[0;34m(array, accept_sparse, accept_large_sparse, dtype, order, copy, force_all_finite, ensure_2d, allow_nd, ensure_min_samples, ensure_min_features, estimator, input_name)\u001b[0m\n\u001b[1;32m    910\u001b[0m     \u001b[38;5;28;01mraise\u001b[39;00m \u001b[38;5;167;01mValueError\u001b[39;00m(\n\u001b[1;32m    911\u001b[0m         \u001b[38;5;124m\"\u001b[39m\u001b[38;5;124mdtype=\u001b[39m\u001b[38;5;124m'\u001b[39m\u001b[38;5;124mnumeric\u001b[39m\u001b[38;5;124m'\u001b[39m\u001b[38;5;124m is not compatible with arrays of bytes/strings.\u001b[39m\u001b[38;5;124m\"\u001b[39m\n\u001b[1;32m    912\u001b[0m         \u001b[38;5;124m\"\u001b[39m\u001b[38;5;124mConvert your data to numeric values explicitly instead.\u001b[39m\u001b[38;5;124m\"\u001b[39m\n\u001b[1;32m    913\u001b[0m     )\n\u001b[1;32m    914\u001b[0m \u001b[38;5;28;01mif\u001b[39;00m \u001b[38;5;129;01mnot\u001b[39;00m allow_nd \u001b[38;5;129;01mand\u001b[39;00m array\u001b[38;5;241m.\u001b[39mndim \u001b[38;5;241m>\u001b[39m\u001b[38;5;241m=\u001b[39m \u001b[38;5;241m3\u001b[39m:\n\u001b[0;32m--> 915\u001b[0m     \u001b[38;5;28;01mraise\u001b[39;00m \u001b[38;5;167;01mValueError\u001b[39;00m(\n\u001b[1;32m    916\u001b[0m         \u001b[38;5;124m\"\u001b[39m\u001b[38;5;124mFound array with dim \u001b[39m\u001b[38;5;132;01m%d\u001b[39;00m\u001b[38;5;124m. \u001b[39m\u001b[38;5;132;01m%s\u001b[39;00m\u001b[38;5;124m expected <= 2.\u001b[39m\u001b[38;5;124m\"\u001b[39m\n\u001b[1;32m    917\u001b[0m         \u001b[38;5;241m%\u001b[39m (array\u001b[38;5;241m.\u001b[39mndim, estimator_name)\n\u001b[1;32m    918\u001b[0m     )\n\u001b[1;32m    920\u001b[0m \u001b[38;5;28;01mif\u001b[39;00m force_all_finite:\n\u001b[1;32m    921\u001b[0m     _assert_all_finite(\n\u001b[1;32m    922\u001b[0m         array,\n\u001b[1;32m    923\u001b[0m         input_name\u001b[38;5;241m=\u001b[39minput_name,\n\u001b[1;32m    924\u001b[0m         estimator_name\u001b[38;5;241m=\u001b[39mestimator_name,\n\u001b[1;32m    925\u001b[0m         allow_nan\u001b[38;5;241m=\u001b[39mforce_all_finite \u001b[38;5;241m==\u001b[39m \u001b[38;5;124m\"\u001b[39m\u001b[38;5;124mallow-nan\u001b[39m\u001b[38;5;124m\"\u001b[39m,\n\u001b[1;32m    926\u001b[0m     )\n",
      "\u001b[0;31mValueError\u001b[0m: Found array with dim 3. None expected <= 2."
     ]
    }
   ],
   "source": [
    "# Invert predictions\n",
    "scaler = MinMaxScaler(feature_range=(0, 1))\n",
    "dataset = scaler.fit_transform(df['Total_Amt'].values.reshape(-1, 1))\n",
    "trainPredict = scaler.inverse_transform(trainPredict)\n",
    "y_train = scaler.inverse_transform(y_train.reshape(y_train.shape[0], y_train.shape[1]))\n",
    "testPredict = scaler.inverse_transform(testPredict)\n",
    "y_test = scaler.inverse_transform(y_test.reshape(y_test.shape[0], y_test.shape[1]))\n",
    "\n"
   ]
  },
  {
   "cell_type": "code",
   "execution_count": null,
   "id": "307d35a0",
   "metadata": {},
   "outputs": [],
   "source": [
    "# Calculate RMSE and MAE\n",
    "trainScore_RMSE = np.sqrt(mean_squared_error(y_train[:,0], trainPredict[:,0]))\n",
    "print('Train Score: %.2f RMSE' % (trainScore_RMSE))\n",
    "trainScore_MAE = mean_absolute_error(y_train[:,0], trainPredict[:,0])\n",
    "print('Train Score: %.2f MAE' % (trainScore_MAE))\n",
    "\n",
    "testScore_RMSE = np.sqrt(mean_squared_error(y_test[:,0], testPredict[:,0]))\n",
    "print('Test Score: %.2f RMSE' % (testScore_RMSE))\n",
    "testScore_MAE = mean_absolute_error(y_test[:,0], testPredict[:,0])\n",
    "print('Test Score: %.2f MAE' % (testScore_MAE))"
   ]
  },
  {
   "cell_type": "code",
   "execution_count": 29,
   "id": "18708512",
   "metadata": {},
   "outputs": [
    {
     "ename": "NameError",
     "evalue": "name 'look_back' is not defined",
     "output_type": "error",
     "traceback": [
      "\u001b[0;31m---------------------------------------------------------------------------\u001b[0m",
      "\u001b[0;31mNameError\u001b[0m                                 Traceback (most recent call last)",
      "Cell \u001b[0;32mIn[29], line 2\u001b[0m\n\u001b[1;32m      1\u001b[0m \u001b[38;5;66;03m# Create a separate index for predictions\u001b[39;00m\n\u001b[0;32m----> 2\u001b[0m index_for_predictions \u001b[38;5;241m=\u001b[39m df\u001b[38;5;241m.\u001b[39mindex[\u001b[43mlook_back\u001b[49m:\u001b[38;5;241m-\u001b[39mlook_back]\n",
      "\u001b[0;31mNameError\u001b[0m: name 'look_back' is not defined"
     ]
    }
   ],
   "source": [
    "# Create a separate index for predictions\n",
    "index_for_predictions = df.index[look_back:-look_back]\n"
   ]
  },
  {
   "cell_type": "code",
   "execution_count": 30,
   "id": "31c6e8ec",
   "metadata": {},
   "outputs": [
    {
     "ename": "NameError",
     "evalue": "name 'look_back' is not defined",
     "output_type": "error",
     "traceback": [
      "\u001b[0;31m---------------------------------------------------------------------------\u001b[0m",
      "\u001b[0;31mNameError\u001b[0m                                 Traceback (most recent call last)",
      "Cell \u001b[0;32mIn[30], line 2\u001b[0m\n\u001b[1;32m      1\u001b[0m \u001b[38;5;66;03m# Create a separate index for predictions\u001b[39;00m\n\u001b[0;32m----> 2\u001b[0m index_for_predictions \u001b[38;5;241m=\u001b[39m df\u001b[38;5;241m.\u001b[39mindex[\u001b[43mlook_back\u001b[49m:\u001b[38;5;241m-\u001b[39mlook_back]\n",
      "\u001b[0;31mNameError\u001b[0m: name 'look_back' is not defined"
     ]
    }
   ],
   "source": [
    "# Create a separate index for predictions\n",
    "index_for_predictions = df.index[look_back:-look_back]\n",
    "\n"
   ]
  },
  {
   "cell_type": "code",
   "execution_count": 31,
   "id": "52ff67e8",
   "metadata": {},
   "outputs": [
    {
     "data": {
      "image/png": "[encoded data removed]",
      "text/plain": [
       "<Figure size 1500x500 with 1 Axes>"
      ]
     },
     "metadata": {},
     "output_type": "display_data"
    }
   ],
   "source": [
    "# Plot actual sales\n",
    "plt.figure(figsize=(15, 5))\n",
    "plt.plot(df.index, df['Total_Amt'], color = 'blue', label = 'Actual Total Amount')\n",
    "plt.xlabel('Date')\n",
    "plt.ylabel('Total Amount')\n",
    "plt.title('Actual Total Amount')\n",
    "plt.legend()\n",
    "plt.show()"
   ]
  },
  {
   "cell_type": "code",
   "execution_count": 32,
   "id": "0ae20c01",
   "metadata": {},
   "outputs": [
    {
     "ename": "NameError",
     "evalue": "name 'look_back' is not defined",
     "output_type": "error",
     "traceback": [
      "\u001b[0;31m---------------------------------------------------------------------------\u001b[0m",
      "\u001b[0;31mNameError\u001b[0m                                 Traceback (most recent call last)",
      "Cell \u001b[0;32mIn[32], line 2\u001b[0m\n\u001b[1;32m      1\u001b[0m \u001b[38;5;66;03m# Adjust the date range for the predictions\u001b[39;00m\n\u001b[0;32m----> 2\u001b[0m train_date_range \u001b[38;5;241m=\u001b[39m df\u001b[38;5;241m.\u001b[39mindex[\u001b[43mlook_back\u001b[49m:\u001b[38;5;241m-\u001b[39mlook_back][:\u001b[38;5;28mlen\u001b[39m(trainPredict)]\n\u001b[1;32m      3\u001b[0m test_date_range \u001b[38;5;241m=\u001b[39m df\u001b[38;5;241m.\u001b[39mindex[look_back:\u001b[38;5;241m-\u001b[39mlook_back][\u001b[38;5;28mlen\u001b[39m(trainPredict):]\n",
      "\u001b[0;31mNameError\u001b[0m: name 'look_back' is not defined"
     ]
    }
   ],
   "source": [
    "# Adjust the date range for the predictions\n",
    "train_date_range = df.index[look_back:-look_back][:len(trainPredict)]\n",
    "test_date_range = df.index[look_back:-look_back][len(trainPredict):]"
   ]
  },
  {
   "cell_type": "code",
   "execution_count": 33,
   "id": "991ea14c",
   "metadata": {},
   "outputs": [
    {
     "ename": "NameError",
     "evalue": "name 'look_back' is not defined",
     "output_type": "error",
     "traceback": [
      "\u001b[0;31m---------------------------------------------------------------------------\u001b[0m",
      "\u001b[0;31mNameError\u001b[0m                                 Traceback (most recent call last)",
      "Cell \u001b[0;32mIn[33], line 6\u001b[0m\n\u001b[1;32m      3\u001b[0m testPredict \u001b[38;5;241m=\u001b[39m testPredict\u001b[38;5;241m.\u001b[39mreshape(\u001b[38;5;241m-\u001b[39m\u001b[38;5;241m1\u001b[39m)\n\u001b[1;32m      5\u001b[0m \u001b[38;5;66;03m# Adjust the lengths of the date ranges\u001b[39;00m\n\u001b[0;32m----> 6\u001b[0m train_date_range \u001b[38;5;241m=\u001b[39m df\u001b[38;5;241m.\u001b[39mindex[\u001b[43mlook_back\u001b[49m:\u001b[38;5;28mlen\u001b[39m(trainPredict)\u001b[38;5;241m+\u001b[39mlook_back]\n\u001b[1;32m      7\u001b[0m test_date_range \u001b[38;5;241m=\u001b[39m df\u001b[38;5;241m.\u001b[39mindex[\u001b[38;5;28mlen\u001b[39m(trainPredict)\u001b[38;5;241m+\u001b[39m(\u001b[38;5;241m2\u001b[39m\u001b[38;5;241m*\u001b[39mlook_back):\u001b[38;5;28mlen\u001b[39m(trainPredict)\u001b[38;5;241m+\u001b[39m\u001b[38;5;28mlen\u001b[39m(testPredict)\u001b[38;5;241m+\u001b[39m(\u001b[38;5;241m2\u001b[39m\u001b[38;5;241m*\u001b[39mlook_back)]\n\u001b[1;32m      9\u001b[0m \u001b[38;5;66;03m# Plot actual sales\u001b[39;00m\n",
      "\u001b[0;31mNameError\u001b[0m: name 'look_back' is not defined"
     ]
    }
   ],
   "source": [
    "# Ensure the predictions are 1D\n",
    "trainPredict = trainPredict.reshape(-1)\n",
    "testPredict = testPredict.reshape(-1)\n",
    "\n",
    "# Adjust the lengths of the date ranges\n",
    "train_date_range = df.index[look_back:len(trainPredict)+look_back]\n",
    "test_date_range = df.index[len(trainPredict)+(2*look_back):len(trainPredict)+len(testPredict)+(2*look_back)]\n",
    "\n",
    "# Plot actual sales\n",
    "plt.figure(figsize=(15, 5))\n",
    "plt.plot(df.index, df['Total_Amt'], color = 'blue', label = 'Actual Total Amount')\n",
    "plt.xlabel('Date')\n",
    "plt.ylabel('Total Amount')\n",
    "plt.title('Actual Total Amount')\n",
    "plt.legend()\n",
    "plt.show()\n",
    "\n",
    "# Plot predicted sales\n",
    "plt.figure(figsize=(15, 5))\n",
    "plt.plot(train_date_range, trainPredict, color = 'red', label = 'Predicted Total Amount - Train')\n",
    "plt.plot(test_date_range, testPredict, color = 'orange', label = 'Predicted Total Amount - Test')\n",
    "plt.xlabel('Date')\n",
    "plt.ylabel('Total Amount')\n",
    "plt.title('Predicted Total Amount')\n",
    "plt.legend()\n",
    "plt.show()\n"
   ]
  },
  {
   "cell_type": "code",
   "execution_count": 34,
   "id": "ad518334",
   "metadata": {},
   "outputs": [
    {
     "ename": "NameError",
     "evalue": "name 'train_date_range' is not defined",
     "output_type": "error",
     "traceback": [
      "\u001b[0;31m---------------------------------------------------------------------------\u001b[0m",
      "\u001b[0;31mNameError\u001b[0m                                 Traceback (most recent call last)",
      "Cell \u001b[0;32mIn[34], line 5\u001b[0m\n\u001b[1;32m      2\u001b[0m weekly_sales \u001b[38;5;241m=\u001b[39m df[\u001b[38;5;124m'\u001b[39m\u001b[38;5;124mTotal_Amt\u001b[39m\u001b[38;5;124m'\u001b[39m]\u001b[38;5;241m.\u001b[39mresample(\u001b[38;5;124m'\u001b[39m\u001b[38;5;124mW\u001b[39m\u001b[38;5;124m'\u001b[39m)\u001b[38;5;241m.\u001b[39msum()\n\u001b[1;32m      4\u001b[0m \u001b[38;5;66;03m# Create weekly date ranges for predictions\u001b[39;00m\n\u001b[0;32m----> 5\u001b[0m weekly_train_date_range \u001b[38;5;241m=\u001b[39m pd\u001b[38;5;241m.\u001b[39mdate_range(start\u001b[38;5;241m=\u001b[39m\u001b[43mtrain_date_range\u001b[49m[\u001b[38;5;241m0\u001b[39m], end\u001b[38;5;241m=\u001b[39mtrain_date_range[\u001b[38;5;241m-\u001b[39m\u001b[38;5;241m1\u001b[39m], freq\u001b[38;5;241m=\u001b[39m\u001b[38;5;124m'\u001b[39m\u001b[38;5;124mW\u001b[39m\u001b[38;5;124m'\u001b[39m)\n\u001b[1;32m      6\u001b[0m weekly_test_date_range \u001b[38;5;241m=\u001b[39m pd\u001b[38;5;241m.\u001b[39mdate_range(start\u001b[38;5;241m=\u001b[39mtest_date_range[\u001b[38;5;241m0\u001b[39m], end\u001b[38;5;241m=\u001b[39mtest_date_range[\u001b[38;5;241m-\u001b[39m\u001b[38;5;241m1\u001b[39m], freq\u001b[38;5;241m=\u001b[39m\u001b[38;5;124m'\u001b[39m\u001b[38;5;124mW\u001b[39m\u001b[38;5;124m'\u001b[39m)\n\u001b[1;32m      8\u001b[0m \u001b[38;5;66;03m# Convert daily predictions to weekly predictions\u001b[39;00m\n",
      "\u001b[0;31mNameError\u001b[0m: name 'train_date_range' is not defined"
     ]
    }
   ],
   "source": [
    "# Convert daily data to weekly data for actual sales\n",
    "weekly_sales = df['Total_Amt'].resample('W').sum()\n",
    "\n",
    "# Create weekly date ranges for predictions\n",
    "weekly_train_date_range = pd.date_range(start=train_date_range[0], end=train_date_range[-1], freq='W')\n",
    "weekly_test_date_range = pd.date_range(start=test_date_range[0], end=test_date_range[-1], freq='W')\n",
    "\n",
    "# Convert daily predictions to weekly predictions\n",
    "weekly_trainPredict = pd.Series(trainPredict, index=train_date_range).resample('W').sum().values\n",
    "weekly_testPredict = pd.Series(testPredict, index=test_date_range).resample('W').sum().values\n",
    "\n",
    "# Plot actual weekly sales\n",
    "plt.figure(figsize=(15, 5))\n",
    "plt.plot(weekly_sales.index, weekly_sales, color = 'blue', label = 'Actual Total Amount')\n",
    "plt.xlabel('Date')\n",
    "plt.ylabel('Total Amount')\n",
    "plt.title('Actual Total Amount - Weekly')\n",
    "plt.legend()\n",
    "plt.show()\n",
    "\n",
    "# Plot predicted weekly sales\n",
    "plt.figure(figsize=(15, 5))\n",
    "plt.plot(weekly_train_date_range, weekly_trainPredict, color = 'red', label = 'Predicted Total Amount - Train')\n",
    "plt.plot(weekly_test_date_range, weekly_testPredict, color = 'orange', label = 'Predicted Total Amount - Test')\n",
    "plt.xlabel('Date')\n",
    "plt.ylabel('Total Amount')\n",
    "plt.title('Predicted Total Amount - Weekly')\n",
    "plt.legend()\n",
    "plt.show()\n"
   ]
  },
  {
   "cell_type": "code",
   "execution_count": null,
   "id": "11f0ee2f",
   "metadata": {},
   "outputs": [],
   "source": []
  },
  {
   "cell_type": "code",
   "execution_count": null,
   "id": "15995fd9",
   "metadata": {},
   "outputs": [],
   "source": []
  },
  {
   "cell_type": "code",
   "execution_count": null,
   "id": "e41a73df",
   "metadata": {},
   "outputs": [],
   "source": []
  }
 ],
 "metadata": {
  "kernelspec": {
   "display_name": "Python 3 (ipykernel)",
   "language": "python",
   "name": "python3"
  },
  "language_info": {
   "codemirror_mode": {
    "name": "ipython",
    "version": 3
   },
   "file_extension": ".py",
   "mimetype": "text/x-python",
   "name": "python",
   "nbconvert_exporter": "python",
   "pygments_lexer": "ipython3",
   "version": "3.10.9"
  }
 },
 "nbformat": 4,
 "nbformat_minor": 5
}
