{
 "cells": [
  {
   "cell_type": "code",
   "execution_count": null,
   "metadata": {},
   "outputs": [],
   "source": [
    "#cross validation\n",
    "from sklearn.model_selection import cross_val_score\n",
    "from sklearn.model_selection import StratifiedKFold\n",
    "from sklearn.model_selection import KFold\n",
    "from sklearn.model_selection import RepeatedStratifiedKFoldv"
   ]
  },
  {
   "cell_type": "code",
   "execution_count": null,
   "metadata": {},
   "outputs": [],
   "source": [
    "#cross validation for ANN\n",
    "scaler_cv = StandardScaler()\n",
    "X_cv = scaler_cv.fit_transform(X)\n",
    "cv_ann = StratifiedKFold(n_splits=10, shuffle=True, random_state=42)\n",
    "\n",
    "scores_ann = []"
   ]
  },
  {
   "cell_type": "code",
   "execution_count": null,
   "metadata": {},
   "outputs": [],
   "source": []
  },
  {
   "cell_type": "code",
   "execution_count": null,
   "metadata": {},
   "outputs": [],
   "source": [
    "for train_index, test_index in cv_ann.split(X_cv, y):\n",
    "    X_train_cv, X_test_cv = X_cv[train_index], X_cv[test_index]\n",
    "    y_train_cv, y_test_cv = y[train_index], y[test_index]\n",
    "\n",
    "    model_cv = Sequential()\n",
    "    model_cv.add(Dense(units=32, activation='relu', input_shape=(X_train_cv.shape[1],)))\n",
    "    model_cv.add(Dense(units=16, activation='relu'))\n",
    "    model_cv.add(Dense(units=1, activation='sigmoid'))\n",
    "    model_cv.compile(optimizer=Adam(learning_rate=0.0001), loss='binary_crossentropy', metrics=['accuracy'])\n",
    "    model_cv.fit(X_train_cv, y_train_cv, batch_size=8, epochs=100, verbose=0)\n",
    "\n",
    "    scores_ann.append(model_cv.evaluate(X_test_cv, y_test_cv, verbose=0)[1])\n",
    "\n",
    "print('ANN Accuracy:', scores_ann)"
   ]
  },
  {
   "cell_type": "code",
   "execution_count": null,
   "metadata": {},
   "outputs": [],
   "source": []
  }
 ],
 "metadata": {
  "language_info": {
   "name": "python"
  },
  "orig_nbformat": 4
 },
 "nbformat": 4,
 "nbformat_minor": 2
}
